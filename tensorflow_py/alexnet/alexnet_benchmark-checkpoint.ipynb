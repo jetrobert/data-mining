{
 "cells": [
  {
   "cell_type": "code",
   "execution_count": 1,
   "metadata": {
    "collapsed": true
   },
   "outputs": [],
   "source": [
    "from datetime import datetime\n",
    "import math\n",
    "import time\n",
    "import tensorflow as tf"
   ]
  },
  {
   "cell_type": "markdown",
   "metadata": {},
   "source": [
    "# network info print function"
   ]
  },
  {
   "cell_type": "code",
   "execution_count": 2,
   "metadata": {
    "collapsed": true
   },
   "outputs": [],
   "source": [
    "def print_activations(t):\n",
    "    print(t.op.name, ' ', t.get_shape().as_list())"
   ]
  },
  {
   "cell_type": "markdown",
   "metadata": {},
   "source": [
    "# build alexnet network "
   ]
  },
  {
   "cell_type": "code",
   "execution_count": 3,
   "metadata": {
    "collapsed": true
   },
   "outputs": [],
   "source": [
    "def inference(images):\n",
    "    parameters = []\n",
    "    \n",
    "    # conv1\n",
    "    with tf.name_scope('conv1') as scope:\n",
    "        kernel = tf.Variable(tf.truncated_normal([11, 11, 3, 64],\n",
    "                    dtype=tf.float32, stddev=1e-1), name='weights')\n",
    "        conv = tf.nn.conv2d(images, kernel, [1, 4, 4, 1], padding='SAME')\n",
    "        biases = tf.Variable(tf.constant(0.0, shape=[64], dtype=tf.float32),\n",
    "                            trainable=True, name='biases')\n",
    "        bias = tf.nn.bias_add(conv, biases)\n",
    "        conv1 = tf.nn.relu(bias, name=scope)\n",
    "        parameters +=[kernel, biases]       \n",
    "    print_activations(conv1)\n",
    "        \n",
    "    # lrn(Local Response Normalization) and max_poor\n",
    "    lrn1 = tf.nn.lrn(conv1, 4, bias=1.0, alpha=0.001/9, beta=0.75, name='lrn1')\n",
    "    pool1 = tf.nn.max_pool(lrn1, ksize=[1, 3, 3, 1], strides=[1, 2, 2, 1],\n",
    "                          padding='VALID', name='pool1')\n",
    "    print_activations(pool1)\n",
    "    \n",
    "    # conv2\n",
    "    with tf.name_scope('conv2') as scope:\n",
    "        kernel = tf.Variable(tf.truncated_normal([5, 5, 64, 192],\n",
    "                        dtype=tf.float32, stddev=1e-1), name='weights')\n",
    "        conv = tf.nn.conv2d(pool1, kernel, [1, 1, 1, 1], padding='SAME')\n",
    "        biases = tf.Variable(tf.constant(0.0, shape=[192], dtype=tf.float32), \n",
    "                             trainable=True, name='biases')\n",
    "        bias = tf.nn.bias_add(conv, biases)\n",
    "        conv2 = tf.nn.relu(bias, name=scope)\n",
    "        parameters += [kernel, biases]        \n",
    "    print_activations(conv2)\n",
    "    \n",
    "    # lrn and max_pool\n",
    "    lrn2 = tf.nn.lrn(conv2, 4, bias=1.0, alpha=0.001/9, beta=0.75, name='lrn2')\n",
    "    pool2 = tf.nn.max_pool(lrn2, ksize=[1, 3, 3, 1], strides=[1, 2, 2, 1],\n",
    "                          padding='VALID', name='pool2')\n",
    "    print_activations(pool2)\n",
    "    \n",
    "    # conv3\n",
    "    with tf.name_scope('conv3') as scope:\n",
    "        kernel = tf.Variable(tf.truncated_normal([3, 3, 192, 384],\n",
    "                        dtype=tf.float32, stddev=1e-1), name='weights')\n",
    "        conv = tf.nn.conv2d(pool2, kernel, [1, 1, 1, 1], padding='SAME')\n",
    "        biases = tf.Variable(tf.constant(0.0, shape=[384], dtype=tf.float32), \n",
    "                            trainable=True, name='biases')\n",
    "        bias = tf.nn.bias_add(conv, biases)\n",
    "        conv3 = tf.nn.relu(bias, name=scope)\n",
    "        parameters += [kernel, biases]\n",
    "    print_activations(conv3)\n",
    "    \n",
    "    # conv4\n",
    "    with tf.name_scope('conv4') as scope:\n",
    "        kernel = tf.Variable(tf.truncated_normal([3, 3, 384, 256], \n",
    "                        dtype=tf.float32, stddev=1e-1), name='weights')\n",
    "        conv = tf.nn.conv2d(conv3, kernel, [1, 1, 1, 1], padding='SAME')\n",
    "        biases = tf.Variable(tf.constant(0.0, shape=[256], dtype=tf.float32), \n",
    "                            trainable=True, name='biases')\n",
    "        bias = tf.nn.bias_add(conv, biases)\n",
    "        conv4 = tf.nn.relu(bias, name=scope)\n",
    "        parameters += [kernel, biases]\n",
    "    print_activations(conv4)\n",
    "    \n",
    "    # conv5\n",
    "    with tf.name_scope('conv5') as scope:\n",
    "        kernel = tf.Variable(tf.truncated_normal([3, 3, 256, 256],\n",
    "                        dtype=tf.float32, stddev=1e-1), name='weights')\n",
    "        conv = tf.nn.conv2d(conv4, kernel, [1, 1, 1, 1], padding='SAME')\n",
    "        biases = tf.Variable(tf.constant(0.0, shape=[256], dtype=tf.float32), \n",
    "                            trainable=True, name='biases')\n",
    "        bias = tf.nn.bias_add(conv, biases)\n",
    "        conv5 = tf.nn.relu(bias, name=scope)\n",
    "        parameters += [kernel, biases]\n",
    "    print_activations(conv5)\n",
    "    \n",
    "    # max_pool\n",
    "    pool5 = tf.nn.max_pool(conv5, ksize=[1, 3, 3, 1], strides=[1, 2, 2, 1],\n",
    "                          padding='VALID', name='pool5')\n",
    "    print_activations(pool5)\n",
    "    \n",
    "    # fully connected layer 6\n",
    "    with tf.name_scope('fc6') as scope:\n",
    "        kernel = tf.Variable(tf.truncated_normal([6*6*256, 4096],\n",
    "                        dtype=tf.float32, stddev=1e-1), name='weights')\n",
    "        biases = tf.Variable(tf.constant(0.0, shape=[4096], dtype=tf.float32),\n",
    "                            trainable=True, name='biases')\n",
    "        flat = tf.reshape(pool5, [-1, 6*6*256])\n",
    "        fc6 = tf.nn.relu(tf.matmul(flat, kernel) + biases)\n",
    "        parameters += [kernel, biases]\n",
    "    print_activations(fc6)\n",
    "        \n",
    "    # dropout\n",
    "    keep_prob = 1.0\n",
    "    fc6_drop = tf.nn.dropout(fc6, keep_prob)\n",
    "    \n",
    "    # fully connected layer 7\n",
    "    with tf.name_scope('fc7') as scope:\n",
    "        kernel = tf.Variable(tf.truncated_normal([4096, 4096],\n",
    "                        dtype=tf.float32, stddev=1e-1), name='weights')\n",
    "        biases = tf.Variable(tf.constant(0.0, shape=[4096], dtype=tf.float32),\n",
    "                            trainable=True, name='biases')\n",
    "        flat = tf.reshape(fc6_drop, [-1, 4096])\n",
    "        fc7 = tf.nn.relu(tf.matmul(flat, kernel) + biases)\n",
    "        parameters += [kernel, biases]\n",
    "    print_activations(fc7)\n",
    "        \n",
    "    # dropout\n",
    "    keep_prob = 1.0\n",
    "    fc7_drop = tf.nn.dropout(fc7, keep_prob)\n",
    "    \n",
    "    # fully connected layer 8\n",
    "    with tf.name_scope('fc8') as scope:\n",
    "        kernel = tf.Variable(tf.truncated_normal([4096, 1000],\n",
    "                        dtype=tf.float32, stddev=1e-1), name='weights')\n",
    "        biases = tf.Variable(tf.constant(0.0, shape=[1000], dtype=tf.float32),\n",
    "                            trainable=True, name='biases')\n",
    "        flat = tf.reshape(fc7_drop, [-1, 4096])\n",
    "        fc8 = tf.nn.relu(tf.matmul(flat, kernel) + biases)\n",
    "        parameters += [kernel, biases]\n",
    "    print_activations(fc8)\n",
    "        \n",
    "    # dropout\n",
    "    keep_prob = 1.0\n",
    "    fc8_drop = tf.nn.dropout(fc8, keep_prob)\n",
    "    \n",
    "    #return pool5, parameters\n",
    "    return fc8_drop, parameters"
   ]
  },
  {
   "cell_type": "markdown",
   "metadata": {},
   "source": [
    "# time per step function"
   ]
  },
  {
   "cell_type": "code",
   "execution_count": 4,
   "metadata": {
    "collapsed": true
   },
   "outputs": [],
   "source": [
    "def time_tensorflow_run(session, target, info_string):\n",
    "    num_steps_burn_in = 10\n",
    "    total_duration = 0.0\n",
    "    total_duration_squared = 0.0\n",
    "    \n",
    "    for i in range(num_batches + num_steps_burn_in):\n",
    "        start_time = time.time()\n",
    "        _ = session.run(target)\n",
    "        duration = time.time() - start_time\n",
    "        if i >= num_steps_burn_in:\n",
    "            if not i % 10:\n",
    "                print('%s: step %d, duration = %.3f' % \n",
    "                     (datetime.now(), i-num_steps_burn_in, duration))\n",
    "            total_duration += duration\n",
    "            total_duration_squared += duration * duration\n",
    "            \n",
    "    # calculate average time and standard deviation\n",
    "    mn = total_duration / num_batches\n",
    "    vr = total_duration_squared / num_batches - mn * mn\n",
    "    sd = math.sqrt(vr)\n",
    "    print('%s: %s across %d steps, %.3f +/- %.3f sec/batch' % \n",
    "         (datetime.now(), info_string, num_batches, mn, sd))"
   ]
  },
  {
   "cell_type": "markdown",
   "metadata": {},
   "source": [
    "# run function"
   ]
  },
  {
   "cell_type": "code",
   "execution_count": 5,
   "metadata": {
    "collapsed": true
   },
   "outputs": [],
   "source": [
    "def run_benchmark():\n",
    "    with tf.Graph().as_default():\n",
    "        image_size = 224\n",
    "        images = tf.Variable(tf.random_normal(\n",
    "            [batch_size, image_size, image_size, 3], dtype=tf.float32, stddev=1e-1))\n",
    "        \n",
    "        pool5, parameters = inference(images)\n",
    "        \n",
    "        # init\n",
    "        init = tf.global_variables_initializer()\n",
    "        sess = tf.Session()\n",
    "        sess.run(init)\n",
    "        \n",
    "        # time evaluation of forward and backward\n",
    "        time_tensorflow_run(sess, pool5, \"Forward\")\n",
    "        \n",
    "        objective = tf.nn.l2_loss(pool5)\n",
    "        grad = tf.gradients(objective, parameters)\n",
    "        time_tensorflow_run(sess, grad, \"Forward-backward\")"
   ]
  },
  {
   "cell_type": "markdown",
   "metadata": {},
   "source": [
    "# run main func"
   ]
  },
  {
   "cell_type": "code",
   "execution_count": 6,
   "metadata": {
    "scrolled": false
   },
   "outputs": [
    {
     "name": "stdout",
     "output_type": "stream",
     "text": [
      "conv1   [32, 56, 56, 64]\n",
      "pool1   [32, 27, 27, 64]\n",
      "conv2   [32, 27, 27, 192]\n",
      "pool2   [32, 13, 13, 192]\n",
      "conv3   [32, 13, 13, 384]\n",
      "conv4   [32, 13, 13, 256]\n",
      "conv5   [32, 13, 13, 256]\n",
      "pool5   [32, 6, 6, 256]\n",
      "fc6/Relu   [32, 4096]\n",
      "fc7/Relu   [32, 4096]\n",
      "fc8/Relu   [32, 1000]\n",
      "2017-06-20 19:17:53.282997: step 0, duration = 1.610\n",
      "2017-06-20 19:18:10.625997: step 10, duration = 1.693\n",
      "2017-06-20 19:18:27.878084: step 20, duration = 1.706\n",
      "2017-06-20 19:18:45.118179: step 30, duration = 1.822\n",
      "2017-06-20 19:19:01.943945: step 40, duration = 1.725\n",
      "2017-06-20 19:19:18.957362: step 50, duration = 1.753\n",
      "2017-06-20 19:19:36.648059: step 60, duration = 1.809\n",
      "2017-06-20 19:19:53.091543: step 70, duration = 1.555\n",
      "2017-06-20 19:20:09.661809: step 80, duration = 1.615\n",
      "2017-06-20 19:20:28.804743: step 90, duration = 2.181\n",
      "2017-06-20 19:20:52.018289: Forward across 100 steps, 1.803 +/- 0.302 sec/batch\n",
      "2017-06-20 19:22:18.549148: step 0, duration = 7.622\n",
      "2017-06-20 19:23:35.050716: step 10, duration = 8.511\n",
      "2017-06-20 19:24:58.603732: step 20, duration = 8.055\n",
      "2017-06-20 19:26:20.183747: step 30, duration = 7.878\n",
      "2017-06-20 19:27:48.190749: step 40, duration = 9.097\n",
      "2017-06-20 19:29:11.742271: step 50, duration = 8.173\n",
      "2017-06-20 19:30:34.529257: step 60, duration = 8.406\n",
      "2017-06-20 19:31:58.397585: step 70, duration = 8.247\n",
      "2017-06-20 19:33:23.546347: step 80, duration = 8.816\n",
      "2017-06-20 19:34:50.100700: step 90, duration = 8.742\n",
      "2017-06-20 19:36:07.271529: Forward-backward across 100 steps, 8.363 +/- 0.562 sec/batch\n"
     ]
    }
   ],
   "source": [
    "batch_size = 32\n",
    "num_batches = 100\n",
    "run_benchmark()"
   ]
  }
 ],
 "metadata": {
  "kernelspec": {
   "display_name": "Python 3",
   "language": "python",
   "name": "python3"
  },
  "language_info": {
   "codemirror_mode": {
    "name": "ipython",
    "version": 3
   },
   "file_extension": ".py",
   "mimetype": "text/x-python",
   "name": "python",
   "nbconvert_exporter": "python",
   "pygments_lexer": "ipython3",
   "version": "3.5.3"
  }
 },
 "nbformat": 4,
 "nbformat_minor": 2
}
