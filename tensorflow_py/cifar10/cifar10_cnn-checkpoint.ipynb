{
 "cells": [
  {
   "cell_type": "code",
   "execution_count": 1,
   "metadata": {
    "collapsed": true
   },
   "outputs": [],
   "source": [
    "import cifar10, cifar10_input\n",
    "import tensorflow as tf\n",
    "import numpy as np\n",
    "import time\n",
    "import math"
   ]
  },
  {
   "cell_type": "markdown",
   "metadata": {},
   "source": [
    "# define weight function"
   ]
  },
  {
   "cell_type": "code",
   "execution_count": 2,
   "metadata": {
    "collapsed": true
   },
   "outputs": [],
   "source": [
    "def variable_with_weight_loss(shape, stddev, wl):\n",
    "    var = tf.Variable(tf.truncated_normal(shape, stddev=stddev))\n",
    "    if wl is not None:\n",
    "        weight_loss = tf.multiply(tf.nn.l2_loss(var), wl, name='weight_loss')\n",
    "        tf.add_to_collection('losses', weight_loss)\n",
    "    return var"
   ]
  },
  {
   "cell_type": "markdown",
   "metadata": {},
   "source": [
    "# download and load data"
   ]
  },
  {
   "cell_type": "code",
   "execution_count": 3,
   "metadata": {},
   "outputs": [],
   "source": [
    "data_dir = '/tmp/cifar10_data/cifar-10-batches-bin'\n",
    "cifar10.maybe_download_and_extract()"
   ]
  },
  {
   "cell_type": "markdown",
   "metadata": {},
   "source": [
    "# data augmentation"
   ]
  },
  {
   "cell_type": "code",
   "execution_count": 4,
   "metadata": {},
   "outputs": [
    {
     "name": "stdout",
     "output_type": "stream",
     "text": [
      "Filling queue with 20000 CIFAR images before starting to train. This will take a few minutes.\n"
     ]
    }
   ],
   "source": [
    "batch_size = 128 \n",
    "# 16 independent threads are used to speed tasks for distorted_in|puts\n",
    "images_train, labels_train = cifar10_input.distorted_inputs(data_dir=data_dir, batch_size=batch_size)\n",
    "images_test, labels_test = cifar10_input.inputs(eval_data=True, data_dir=data_dir, batch_size=batch_size)"
   ]
  },
  {
   "cell_type": "markdown",
   "metadata": {},
   "source": [
    "# placeholder"
   ]
  },
  {
   "cell_type": "code",
   "execution_count": 5,
   "metadata": {
    "collapsed": true
   },
   "outputs": [],
   "source": [
    "image_holder = tf.placeholder(tf.float32, [batch_size, 24, 24, 3])\n",
    "label_holder = tf.placeholder(tf.int32, [batch_size])"
   ]
  },
  {
   "cell_type": "markdown",
   "metadata": {},
   "source": [
    "# build network framework"
   ]
  },
  {
   "cell_type": "code",
   "execution_count": 6,
   "metadata": {
    "collapsed": true
   },
   "outputs": [],
   "source": [
    "# 1st layer conv\n",
    "weight1 = variable_with_weight_loss(shape=[5, 5, 3, 64], stddev=5e-2, wl=0.0)\n",
    "kernel1 = tf.nn.conv2d(image_holder, weight1, [1, 1, 1, 1], padding='SAME')\n",
    "bias1 = tf.Variable(tf.constant(0.0, shape=[64]))\n",
    "conv1 = tf.nn.relu(tf.nn.bias_add(kernel1, bias1))\n",
    "pool1 = tf.nn.max_pool(conv1, ksize=[1, 3, 3, 1], strides=[1, 2, 2, 1], padding='SAME')\n",
    "norm1 = tf.nn.lrn(pool1, 4, bias=1.0, alpha=0.001/9.0, beta=0.75)\n",
    "\n",
    "# 2nd layer conv\n",
    "weight2 = variable_with_weight_loss(shape=[5, 5, 64, 64], stddev=5e-2, wl=0.0)\n",
    "kernel2= tf.nn.conv2d(norm1, weight2, [1, 1, 1, 1], padding='SAME')\n",
    "bias2 = tf.Variable(tf.constant(0.1, shape=[64]))\n",
    "conv2 = tf.nn.relu(tf.nn.bias_add(kernel2, bias2))\n",
    "norm2 = tf.nn.lrn(conv2, 4, bias=1.0, alpha=0.001/9.0, beta=0.75)\n",
    "pool2 = tf.nn.max_pool(norm2, ksize=[1 ,3, 3, 1], strides=[1, 2, 2, 1], padding='SAME')\n",
    "\n",
    "# 1st fully connected layer\n",
    "reshape = tf.reshape(pool2, [batch_size, -1])\n",
    "dim = reshape.get_shape()[1].value\n",
    "weight3 = variable_with_weight_loss(shape=[dim, 384], stddev=0.04, wl=0.004)\n",
    "bias3 = tf.Variable(tf.constant(0.1, shape=[384]))\n",
    "local3 = tf.nn.relu(tf.matmul(reshape, weight3) + bias3)\n",
    "\n",
    "# 2nd fully connected layer\n",
    "weight4 = variable_with_weight_loss(shape=[384, 192], stddev=0.04, wl=0.004)\n",
    "bias4 = tf.Variable(tf.constant(0.1, shape=[192]))\n",
    "local4 = tf.nn.relu(tf.matmul(local3, weight4) + bias4)\n",
    "\n",
    "# 3rd fully connected layer\n",
    "weight5 = variable_with_weight_loss(shape=[192, 10], stddev=1/192.0, wl=0.0)\n",
    "bias5 = tf.Variable(tf.constant(0.0, shape=[10]))\n",
    "# model inference output\n",
    "logits = tf.add(tf.matmul(local4, weight5), bias5)"
   ]
  },
  {
   "cell_type": "markdown",
   "metadata": {},
   "source": [
    "# loss"
   ]
  },
  {
   "cell_type": "code",
   "execution_count": 7,
   "metadata": {
    "collapsed": true
   },
   "outputs": [],
   "source": [
    "def loss(logits, labels):\n",
    "    labels = tf.cast(labels, tf.int64)\n",
    "    cross_entropy = tf.nn.sparse_softmax_cross_entropy_with_logits(logits=logits, labels=labels, name='cross_entropy_per_example')\n",
    "    cross_entropy_mean = tf.reduce_mean(cross_entropy, name='cross_entropy')\n",
    "    tf.add_to_collection('losses', cross_entropy_mean)\n",
    "    return tf.add_n(tf.get_collection('losses'), name='total_loss')\n",
    "\n",
    "loss = loss(logits, label_holder)"
   ]
  },
  {
   "cell_type": "markdown",
   "metadata": {},
   "source": [
    "# optimization and top accuracy"
   ]
  },
  {
   "cell_type": "code",
   "execution_count": 8,
   "metadata": {
    "collapsed": true
   },
   "outputs": [],
   "source": [
    "train_op = tf.train.AdamOptimizer(1e-3).minimize(loss)\n",
    "top_k_op = tf.nn.in_top_k(logits, label_holder, 1)"
   ]
  },
  {
   "cell_type": "markdown",
   "metadata": {},
   "source": [
    "# session"
   ]
  },
  {
   "cell_type": "code",
   "execution_count": 9,
   "metadata": {},
   "outputs": [],
   "source": [
    "sess = tf.InteractiveSession()\n",
    "tf.global_variables_initializer().run()"
   ]
  },
  {
   "cell_type": "markdown",
   "metadata": {},
   "source": [
    "# start data augmentation threads"
   ]
  },
  {
   "cell_type": "code",
   "execution_count": 10,
   "metadata": {
    "scrolled": true
   },
   "outputs": [
    {
     "data": {
      "text/plain": [
       "[<Thread(Thread-4, started daemon 139795516880640)>,\n",
       " <Thread(Thread-5, started daemon 139795508487936)>,\n",
       " <Thread(Thread-6, started daemon 139795495909120)>,\n",
       " <Thread(Thread-7, started daemon 139794743031552)>,\n",
       " <Thread(Thread-8, started daemon 139794734638848)>,\n",
       " <Thread(Thread-9, started daemon 139794726246144)>,\n",
       " <Thread(Thread-10, started daemon 139794717853440)>,\n",
       " <Thread(Thread-11, started daemon 139794709460736)>,\n",
       " <Thread(Thread-12, started daemon 139794701068032)>,\n",
       " <Thread(Thread-13, started daemon 139794692675328)>,\n",
       " <Thread(Thread-14, started daemon 139794206160640)>,\n",
       " <Thread(Thread-15, started daemon 139794197767936)>,\n",
       " <Thread(Thread-16, started daemon 139794189375232)>,\n",
       " <Thread(Thread-17, started daemon 139794180982528)>,\n",
       " <Thread(Thread-18, started daemon 139794172589824)>,\n",
       " <Thread(Thread-19, started daemon 139794164197120)>,\n",
       " <Thread(Thread-20, started daemon 139794155804416)>,\n",
       " <Thread(Thread-21, started daemon 139793937725184)>,\n",
       " <Thread(Thread-22, started daemon 139793929332480)>,\n",
       " <Thread(Thread-23, started daemon 139793920939776)>,\n",
       " <Thread(Thread-24, started daemon 139793912547072)>,\n",
       " <Thread(Thread-25, started daemon 139793904154368)>,\n",
       " <Thread(Thread-26, started daemon 139793895761664)>,\n",
       " <Thread(Thread-27, started daemon 139793887368960)>,\n",
       " <Thread(Thread-28, started daemon 139793803507456)>,\n",
       " <Thread(Thread-29, started daemon 139793795114752)>,\n",
       " <Thread(Thread-30, started daemon 139793786722048)>,\n",
       " <Thread(Thread-31, started daemon 139793778329344)>,\n",
       " <Thread(Thread-32, started daemon 139793769936640)>,\n",
       " <Thread(Thread-33, started daemon 139793761543936)>,\n",
       " <Thread(Thread-34, started daemon 139793753151232)>,\n",
       " <Thread(Thread-35, started daemon 139793744758528)>,\n",
       " <Thread(Thread-36, started daemon 139793736365824)>,\n",
       " <Thread(Thread-37, started daemon 139793727973120)>]"
      ]
     },
     "execution_count": 10,
     "metadata": {},
     "output_type": "execute_result"
    }
   ],
   "source": [
    "tf.train.start_queue_runners()"
   ]
  },
  {
   "cell_type": "markdown",
   "metadata": {},
   "source": [
    "# train"
   ]
  },
  {
   "cell_type": "code",
   "execution_count": 11,
   "metadata": {
    "scrolled": false
   },
   "outputs": [
    {
     "name": "stdout",
     "output_type": "stream",
     "text": [
      "step 0, loss=4.68 (79.9 examples/sec, 1.603 sec/batch)\n",
      "step 10, loss=3.77 (199.4 examples/sec, 0.642 sec/batch)\n",
      "step 20, loss=3.05 (198.5 examples/sec, 0.645 sec/batch)\n",
      "step 30, loss=2.66 (187.2 examples/sec, 0.684 sec/batch)\n",
      "step 40, loss=2.35 (187.3 examples/sec, 0.683 sec/batch)\n",
      "step 50, loss=2.25 (170.6 examples/sec, 0.750 sec/batch)\n",
      "step 60, loss=2.13 (199.6 examples/sec, 0.641 sec/batch)\n",
      "step 70, loss=2.00 (152.5 examples/sec, 0.839 sec/batch)\n",
      "step 80, loss=2.00 (187.5 examples/sec, 0.683 sec/batch)\n",
      "step 90, loss=1.89 (172.7 examples/sec, 0.741 sec/batch)\n",
      "step 100, loss=1.95 (170.4 examples/sec, 0.751 sec/batch)\n",
      "step 110, loss=1.88 (197.9 examples/sec, 0.647 sec/batch)\n",
      "step 120, loss=1.96 (119.3 examples/sec, 1.073 sec/batch)\n",
      "step 130, loss=1.86 (188.4 examples/sec, 0.679 sec/batch)\n",
      "step 140, loss=1.74 (185.7 examples/sec, 0.689 sec/batch)\n",
      "step 150, loss=1.80 (170.2 examples/sec, 0.752 sec/batch)\n",
      "step 160, loss=1.77 (171.0 examples/sec, 0.749 sec/batch)\n",
      "step 170, loss=1.82 (169.7 examples/sec, 0.754 sec/batch)\n",
      "step 180, loss=1.71 (171.7 examples/sec, 0.745 sec/batch)\n",
      "step 190, loss=1.80 (185.8 examples/sec, 0.689 sec/batch)\n",
      "step 200, loss=1.58 (185.8 examples/sec, 0.689 sec/batch)\n",
      "step 210, loss=1.68 (111.4 examples/sec, 1.149 sec/batch)\n",
      "step 220, loss=1.83 (190.1 examples/sec, 0.673 sec/batch)\n",
      "step 230, loss=1.73 (174.2 examples/sec, 0.735 sec/batch)\n",
      "step 240, loss=1.58 (170.6 examples/sec, 0.750 sec/batch)\n",
      "step 250, loss=1.52 (170.5 examples/sec, 0.751 sec/batch)\n",
      "step 260, loss=1.61 (156.1 examples/sec, 0.820 sec/batch)\n",
      "step 270, loss=1.59 (190.9 examples/sec, 0.671 sec/batch)\n",
      "step 280, loss=1.71 (189.2 examples/sec, 0.677 sec/batch)\n",
      "step 290, loss=1.69 (187.8 examples/sec, 0.681 sec/batch)\n",
      "step 300, loss=1.52 (189.6 examples/sec, 0.675 sec/batch)\n",
      "step 310, loss=1.74 (181.7 examples/sec, 0.704 sec/batch)\n",
      "step 320, loss=1.70 (171.5 examples/sec, 0.746 sec/batch)\n",
      "step 330, loss=1.62 (171.3 examples/sec, 0.747 sec/batch)\n",
      "step 340, loss=1.68 (172.9 examples/sec, 0.740 sec/batch)\n",
      "step 350, loss=1.65 (117.4 examples/sec, 1.091 sec/batch)\n",
      "step 360, loss=1.45 (189.8 examples/sec, 0.674 sec/batch)\n",
      "step 370, loss=1.48 (190.4 examples/sec, 0.672 sec/batch)\n",
      "step 380, loss=1.59 (189.7 examples/sec, 0.675 sec/batch)\n",
      "step 390, loss=1.56 (202.2 examples/sec, 0.633 sec/batch)\n",
      "step 400, loss=1.43 (123.2 examples/sec, 1.039 sec/batch)\n",
      "step 410, loss=1.45 (168.2 examples/sec, 0.761 sec/batch)\n",
      "step 420, loss=1.63 (189.3 examples/sec, 0.676 sec/batch)\n",
      "step 430, loss=1.45 (190.4 examples/sec, 0.672 sec/batch)\n",
      "step 440, loss=1.64 (189.4 examples/sec, 0.676 sec/batch)\n",
      "step 450, loss=1.45 (188.4 examples/sec, 0.679 sec/batch)\n",
      "step 460, loss=1.58 (113.5 examples/sec, 1.128 sec/batch)\n",
      "step 470, loss=1.33 (171.5 examples/sec, 0.746 sec/batch)\n",
      "step 480, loss=1.48 (171.2 examples/sec, 0.748 sec/batch)\n",
      "step 490, loss=1.55 (173.2 examples/sec, 0.739 sec/batch)\n",
      "step 500, loss=1.41 (121.0 examples/sec, 1.058 sec/batch)\n",
      "step 510, loss=1.45 (189.9 examples/sec, 0.674 sec/batch)\n",
      "step 520, loss=1.50 (188.6 examples/sec, 0.679 sec/batch)\n",
      "step 530, loss=1.47 (188.5 examples/sec, 0.679 sec/batch)\n",
      "step 540, loss=1.44 (172.8 examples/sec, 0.741 sec/batch)\n",
      "step 550, loss=1.54 (171.8 examples/sec, 0.745 sec/batch)\n",
      "step 560, loss=1.40 (170.7 examples/sec, 0.750 sec/batch)\n",
      "step 570, loss=1.66 (136.4 examples/sec, 0.939 sec/batch)\n",
      "step 580, loss=1.39 (189.1 examples/sec, 0.677 sec/batch)\n",
      "step 590, loss=1.59 (113.3 examples/sec, 1.130 sec/batch)\n",
      "step 600, loss=1.39 (190.8 examples/sec, 0.671 sec/batch)\n",
      "step 610, loss=1.43 (177.2 examples/sec, 0.722 sec/batch)\n",
      "step 620, loss=1.32 (171.5 examples/sec, 0.746 sec/batch)\n",
      "step 630, loss=1.23 (171.5 examples/sec, 0.746 sec/batch)\n",
      "step 640, loss=1.43 (172.9 examples/sec, 0.740 sec/batch)\n",
      "step 650, loss=1.39 (120.5 examples/sec, 1.063 sec/batch)\n",
      "step 660, loss=1.42 (189.7 examples/sec, 0.675 sec/batch)\n",
      "step 670, loss=1.35 (190.1 examples/sec, 0.673 sec/batch)\n",
      "step 680, loss=1.33 (188.6 examples/sec, 0.679 sec/batch)\n",
      "step 690, loss=1.36 (178.6 examples/sec, 0.717 sec/batch)\n",
      "step 700, loss=1.23 (173.3 examples/sec, 0.739 sec/batch)\n",
      "step 710, loss=1.33 (171.9 examples/sec, 0.745 sec/batch)\n",
      "step 720, loss=1.46 (176.5 examples/sec, 0.725 sec/batch)\n",
      "step 730, loss=1.21 (191.4 examples/sec, 0.669 sec/batch)\n",
      "step 740, loss=1.42 (191.4 examples/sec, 0.669 sec/batch)\n",
      "step 750, loss=1.37 (188.1 examples/sec, 0.680 sec/batch)\n",
      "step 760, loss=1.40 (190.9 examples/sec, 0.670 sec/batch)\n",
      "step 770, loss=1.34 (151.2 examples/sec, 0.847 sec/batch)\n",
      "step 780, loss=1.31 (172.2 examples/sec, 0.743 sec/batch)\n",
      "step 790, loss=1.44 (171.1 examples/sec, 0.748 sec/batch)\n",
      "step 800, loss=1.30 (176.8 examples/sec, 0.724 sec/batch)\n",
      "step 810, loss=1.28 (186.1 examples/sec, 0.688 sec/batch)\n",
      "step 820, loss=1.27 (112.9 examples/sec, 1.134 sec/batch)\n",
      "step 830, loss=1.41 (182.3 examples/sec, 0.702 sec/batch)\n",
      "step 840, loss=1.40 (93.9 examples/sec, 1.363 sec/batch)\n",
      "step 850, loss=1.19 (164.3 examples/sec, 0.779 sec/batch)\n",
      "step 860, loss=1.64 (160.6 examples/sec, 0.797 sec/batch)\n",
      "step 870, loss=1.19 (163.5 examples/sec, 0.783 sec/batch)\n",
      "step 880, loss=1.45 (162.5 examples/sec, 0.787 sec/batch)\n",
      "step 890, loss=1.42 (146.7 examples/sec, 0.872 sec/batch)\n",
      "step 900, loss=1.34 (183.4 examples/sec, 0.698 sec/batch)\n",
      "step 910, loss=1.24 (114.1 examples/sec, 1.121 sec/batch)\n",
      "step 920, loss=1.40 (113.7 examples/sec, 1.125 sec/batch)\n",
      "step 930, loss=1.22 (164.5 examples/sec, 0.778 sec/batch)\n",
      "step 940, loss=1.32 (172.1 examples/sec, 0.744 sec/batch)\n",
      "step 950, loss=1.33 (121.6 examples/sec, 1.053 sec/batch)\n",
      "step 960, loss=1.20 (115.9 examples/sec, 1.104 sec/batch)\n",
      "step 970, loss=1.15 (163.0 examples/sec, 0.785 sec/batch)\n",
      "step 980, loss=1.40 (174.1 examples/sec, 0.735 sec/batch)\n",
      "step 990, loss=1.31 (180.4 examples/sec, 0.710 sec/batch)\n"
     ]
    }
   ],
   "source": [
    "max_steps = 1000\n",
    "for step in range(max_steps):\n",
    "    start_time = time.time()\n",
    "    image_batch, label_batch = sess.run([images_train, labels_train])\n",
    "    _, loss_value = sess.run([train_op, loss], \n",
    "                             feed_dict={image_holder:image_batch, label_holder:label_batch})\n",
    "    duration = time.time() - start_time\n",
    "    if step % 10 ==0:\n",
    "        examples_per_sec = batch_size / duration\n",
    "        sec_per_batch = float(duration)\n",
    "        \n",
    "        format_str=('step %d, loss=%.2f (%.1f examples/sec, %.3f sec/batch)')\n",
    "        print(format_str % (step, loss_value, examples_per_sec, sec_per_batch))"
   ]
  },
  {
   "cell_type": "markdown",
   "metadata": {},
   "source": [
    "# evaluation and accuracy"
   ]
  },
  {
   "cell_type": "code",
   "execution_count": 12,
   "metadata": {},
   "outputs": [
    {
     "name": "stdout",
     "output_type": "stream",
     "text": [
      "precision @ top1 = 0.618\n"
     ]
    }
   ],
   "source": [
    "num_examples = 10000\n",
    "num_iter = int(math.ceil(num_examples / batch_size))\n",
    "true_count = 0\n",
    "total_sample_count = num_iter * batch_size\n",
    "step = 0\n",
    "while step < num_iter:\n",
    "    image_batch, label_batch = sess.run([images_test, labels_test])\n",
    "    # top_k_op: k=1\n",
    "    predictions = sess.run([top_k_op], feed_dict={\n",
    "        image_holder: image_batch, label_holder: label_batch})\n",
    "    true_count += np.sum(predictions)\n",
    "    step +=1\n",
    "    \n",
    "precision = true_count * 1.0 / total_sample_count\n",
    "print('precision @ top1 = %.3f' % precision)"
   ]
  }
 ],
 "metadata": {
  "kernelspec": {
   "display_name": "Python 2",
   "language": "python",
   "name": "python2"
  },
  "language_info": {
   "codemirror_mode": {
    "name": "ipython",
    "version": 2
   },
   "file_extension": ".py",
   "mimetype": "text/x-python",
   "name": "python",
   "nbconvert_exporter": "python",
   "pygments_lexer": "ipython2",
   "version": "2.7.12"
  }
 },
 "nbformat": 4,
 "nbformat_minor": 2
}
