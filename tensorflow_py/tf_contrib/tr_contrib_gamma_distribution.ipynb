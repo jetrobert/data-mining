{
 "cells": [
  {
   "cell_type": "code",
   "execution_count": 1,
   "metadata": {
    "collapsed": true
   },
   "outputs": [],
   "source": [
    "import numpy as np\n",
    "import tensorflow as tf\n",
    "from tensorflow.contrib.distributions import Gamma"
   ]
  },
  {
   "cell_type": "markdown",
   "metadata": {},
   "source": [
    "# simple instance"
   ]
  },
  {
   "cell_type": "code",
   "execution_count": 2,
   "metadata": {},
   "outputs": [
    {
     "name": "stdout",
     "output_type": "stream",
     "text": [
      "<tensorflow.contrib.distributions.python.ops.gamma.Gamma object at 0x000002AB9C608BA8>\n"
     ]
    }
   ],
   "source": [
    "alpha = tf.constant([3.0] * 5)\n",
    "beta = tf.constant(11.0)\n",
    "gamma = Gamma(alpha, beta)\n",
    "\n",
    "print(gamma)"
   ]
  },
  {
   "cell_type": "markdown",
   "metadata": {},
   "source": [
    "# log_cdf()"
   ]
  },
  {
   "cell_type": "code",
   "execution_count": 3,
   "metadata": {},
   "outputs": [
    {
     "name": "stdout",
     "output_type": "stream",
     "text": [
      "Tensor(\"Gamma_1/log_cdf/Log:0\", shape=(5,), dtype=float32)\n"
     ]
    }
   ],
   "source": [
    "x = np.array([2.5, 2.5, 4.0, 0.1, 1.0], dtype=np.float32)\n",
    "log_cdf = gamma.log_cdf(x)\n",
    "\n",
    "print(log_cdf)"
   ]
  },
  {
   "cell_type": "markdown",
   "metadata": {},
   "source": [
    "# log_cdg() with multiple dimensions"
   ]
  },
  {
   "cell_type": "code",
   "execution_count": 4,
   "metadata": {
    "scrolled": false
   },
   "outputs": [
    {
     "name": "stdout",
     "output_type": "stream",
     "text": [
      "Tensor(\"Gamma_3/log_cdf/Log:0\", shape=(5, 2), dtype=float32)\n"
     ]
    }
   ],
   "source": [
    "batch_size = 5\n",
    "alpha = tf.constant([[2.0, 4.0]] * batch_size)\n",
    "beta = tf.constant([[3.0, 4.0]] * batch_size)\n",
    "\n",
    "x = np.array([[2.5, 2.5, 4.0, 0.1, 1.0]], dtype=np.float32).T\n",
    "\n",
    "gamma = Gamma(alpha, beta)\n",
    "log_cdf = gamma.log_cdf(x)\n",
    "\n",
    "print(log_cdf)"
   ]
  }
 ],
 "metadata": {
  "kernelspec": {
   "display_name": "Python 2",
   "language": "python",
   "name": "python2"
  },
  "language_info": {
   "codemirror_mode": {
    "name": "ipython",
    "version": 2
   },
   "file_extension": ".py",
   "mimetype": "text/x-python",
   "name": "python",
   "nbconvert_exporter": "python",
   "pygments_lexer": "ipython2",
   "version": "2.7.12"
  }
 },
 "nbformat": 4,
 "nbformat_minor": 2
}
