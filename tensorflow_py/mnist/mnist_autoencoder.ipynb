{
 "cells": [
  {
   "cell_type": "code",
   "execution_count": 1,
   "metadata": {
    "collapsed": true
   },
   "outputs": [],
   "source": [
    "import numpy as np\n",
    "import sklearn.preprocessing as prep\n",
    "import tensorflow as tf\n",
    "from tensorflow.examples.tutorials.mnist import input_data"
   ]
  },
  {
   "cell_type": "markdown",
   "metadata": {},
   "source": [
    "# xavier initialization function"
   ]
  },
  {
   "cell_type": "code",
   "execution_count": 2,
   "metadata": {
    "collapsed": true
   },
   "outputs": [],
   "source": [
    "def xavier_init(fan_in, fan_out, constant=1):\n",
    "    low = -constant * np.sqrt(6.0 / (fan_in + fan_out))\n",
    "    high = constant * np.sqrt(6.0 / (fan_in + fan_out))\n",
    "    return tf.random_uniform((fan_in, fan_out), minval = low, maxval = high, dtype = tf.float32)"
   ]
  },
  {
   "cell_type": "markdown",
   "metadata": {},
   "source": [
    "# additive gaussian noise autoencoder class"
   ]
  },
  {
   "cell_type": "code",
   "execution_count": 3,
   "metadata": {},
   "outputs": [],
   "source": [
    "class AdditiveGaussianNoiseAutoencoder(object):\n",
    "    def __init__(self, n_input, n_hidden, transfer_function=tf.nn.softplus,\n",
    "                optimizer=tf.train.AdamOptimizer(), scale=0.1):\n",
    "        self.n_input = n_input\n",
    "        self.n_hidden = n_hidden\n",
    "        self.transfer = transfer_function\n",
    "        self.scale = tf.placeholder(tf.float32)\n",
    "        self.training_scale = scale\n",
    "        network_weights = self._initialize_weights()\n",
    "        self.weights = network_weights\n",
    "        \n",
    "        # define network architecture\n",
    "        self.x = tf.placeholder(tf.float32, [None, self.n_input])\n",
    "        self.hidden = self.transfer(tf.add(tf.matmul(\n",
    "                                self.x + scale * tf.random_normal((n_input,)),\n",
    "                                self.weights['w1']), self.weights['b1']))\n",
    "        self.reconstruction = tf.add(tf.matmul(self.hidden, self.weights['w2']), self.weights['b2'])\n",
    "        \n",
    "        # loss function\n",
    "        self.cost = 0.5 * tf.reduce_sum(tf.pow(tf.subtract(\n",
    "                            self.reconstruction, self.x), 2.0))\n",
    "        self.optimizer = optimizer.minimize(self.cost)\n",
    "        \n",
    "        init = tf.global_variables_initializer()\n",
    "        self.sess = tf.Session()\n",
    "        self.sess.run(init)\n",
    "        \n",
    "    # initialize weights function\n",
    "    def _initialize_weights(self):\n",
    "        all_weights = dict()\n",
    "        all_weights['w1'] = tf.Variable(xavier_init(self.n_input, self.n_hidden))\n",
    "        all_weights['b1'] = tf.Variable(tf.zeros([self.n_hidden], dtype=tf.float32))\n",
    "        all_weights['w2'] = tf.Variable(tf.zeros([self.n_hidden, self.n_input], dtype=tf.float32))\n",
    "        all_weights['b2'] = tf.Variable(tf.zeros([self.n_input], dtype=tf.float32))\n",
    "        return all_weights\n",
    "    \n",
    "    # cost function and partial_fit function\n",
    "    def partial_fit(self, x):\n",
    "        cost, opt = self.sess.run((self.cost, self.optimizer), feed_dict = {self.x: x, self.scale: self.training_scale})\n",
    "        return cost\n",
    "    \n",
    "    # only cost function\n",
    "    def calc_total_cost(self, x):\n",
    "        return self.sess.run(self.cost, feed_dict={self.x: x, self.scale: self.training_scale})\n",
    "    \n",
    "    # transform function\n",
    "    def transform(self, x):\n",
    "        return self.sess.run(self.hidden, feed_dict={self.x: x, self.scale: self.training_scale})\n",
    "    \n",
    "    # generate function\n",
    "    def generate(self, hidden=None):\n",
    "        if hidden is None:\n",
    "            hidden = np.random.normal(size=self.weights[\"b1\"])\n",
    "        return self.see.run(self.reconstruction, feed_dict={self.hidden: hidden})\n",
    "    \n",
    "    # reconstruct function\n",
    "    def reconstruct(self, x):\n",
    "        return self.sess.run(self.reconstruction, feed_dict={self.x: x, self.scale: self.training_scale})\n",
    "    \n",
    "    # getWeights function\n",
    "    def getWeights(self):\n",
    "        return self.sess.run(self.weights['w1'])\n",
    "\n",
    "    # getBiases function\n",
    "    def getBiases(self):\n",
    "        return self.sess.run(self.weights['b1'])"
   ]
  },
  {
   "cell_type": "markdown",
   "metadata": {},
   "source": [
    "# standard scale function"
   ]
  },
  {
   "cell_type": "code",
   "execution_count": 4,
   "metadata": {
    "collapsed": true
   },
   "outputs": [],
   "source": [
    "def standard_scale(x_train, x_test):\n",
    "    preprocessor = prep.StandardScaler().fit(x_train)\n",
    "    x_train = preprocessor.transform(x_train)\n",
    "    x_test = preprocessor.transform(x_test)\n",
    "    return x_train, x_test"
   ]
  },
  {
   "cell_type": "markdown",
   "metadata": {},
   "source": [
    "# random block function"
   ]
  },
  {
   "cell_type": "code",
   "execution_count": 5,
   "metadata": {
    "collapsed": true
   },
   "outputs": [],
   "source": [
    "def get_random_block_from_data(data, batch_size):\n",
    "    start_index = np.random.randint(0, len(data)-batch_size)\n",
    "    return data[start_index: (start_index + batch_size)]"
   ]
  },
  {
   "cell_type": "markdown",
   "metadata": {},
   "source": [
    "# load data"
   ]
  },
  {
   "cell_type": "code",
   "execution_count": 6,
   "metadata": {},
   "outputs": [
    {
     "name": "stdout",
     "output_type": "stream",
     "text": [
      "Extracting MNIST_data\\train-images-idx3-ubyte.gz\n",
      "Extracting MNIST_data\\train-labels-idx1-ubyte.gz\n",
      "Extracting MNIST_data\\t10k-images-idx3-ubyte.gz\n",
      "Extracting MNIST_data\\t10k-labels-idx1-ubyte.gz\n"
     ]
    }
   ],
   "source": [
    "mnist = input_data.read_data_sets('MNIST_data', one_hot=True)\n",
    "x_train, x_test = standard_scale(mnist.train.images, mnist.test.images)"
   ]
  },
  {
   "cell_type": "markdown",
   "metadata": {},
   "source": [
    "# train"
   ]
  },
  {
   "cell_type": "code",
   "execution_count": 7,
   "metadata": {},
   "outputs": [
    {
     "name": "stdout",
     "output_type": "stream",
     "text": [
      "Epoch: 0001 cost= 19597.993212500\n",
      "Epoch: 0002 cost= 12704.766622727\n",
      "Epoch: 0003 cost= 10857.862907386\n",
      "Epoch: 0004 cost= 9421.311528977\n",
      "Epoch: 0005 cost= 9975.754668182\n",
      "Epoch: 0006 cost= 9478.295655114\n",
      "Epoch: 0007 cost= 9139.745199432\n",
      "Epoch: 0008 cost= 9377.190157955\n",
      "Epoch: 0009 cost= 9079.506094886\n",
      "Epoch: 0010 cost= 8034.588703409\n",
      "Epoch: 0011 cost= 8930.324689773\n",
      "Epoch: 0012 cost= 8712.671421591\n",
      "Epoch: 0013 cost= 8299.617280114\n",
      "Epoch: 0014 cost= 7552.333994886\n",
      "Epoch: 0015 cost= 7714.064661932\n",
      "Epoch: 0016 cost= 7781.850780114\n",
      "Epoch: 0017 cost= 7859.792118750\n",
      "Epoch: 0018 cost= 7932.490422159\n",
      "Epoch: 0019 cost= 8594.928602273\n",
      "Epoch: 0020 cost= 8295.253238636\n",
      "Total cost: 648657.0\n"
     ]
    }
   ],
   "source": [
    "n_samples = int(mnist.train.num_examples)\n",
    "training_epochs = 20\n",
    "batch_size = 128\n",
    "display_step = 1\n",
    "\n",
    "autoencoder = AdditiveGaussianNoiseAutoencoder(n_input=784, \n",
    "                                              n_hidden=200,\n",
    "                                              transfer_function=tf.nn.softplus,\n",
    "                                              optimizer=tf.train.AdamOptimizer(learning_rate=0.001),\n",
    "                                              scale=0.01)\n",
    "\n",
    "for epoch in range(training_epochs):\n",
    "    avg_cost = 0.\n",
    "    total_batch = int(n_samples / batch_size)\n",
    "    for i in range(total_batch):\n",
    "        batch_xs = get_random_block_from_data(x_train, batch_size)\n",
    "        \n",
    "        cost = autoencoder.partial_fit(batch_xs)\n",
    "        avg_cost += cost / n_samples * batch_size\n",
    "        \n",
    "    if epoch % display_step == 0:\n",
    "        print(\"Epoch:\", '%04d' % (epoch+1), \"cost=\", \"{:.9f}\".format(avg_cost))\n",
    "        \n",
    "print(\"Total cost: \" + str(autoencoder.calc_total_cost(x_test)))"
   ]
  }
 ],
 "metadata": {
  "kernelspec": {
   "display_name": "Python 3",
   "language": "python",
   "name": "python3"
  },
  "language_info": {
   "codemirror_mode": {
    "name": "ipython",
    "version": 3
   },
   "file_extension": ".py",
   "mimetype": "text/x-python",
   "name": "python",
   "nbconvert_exporter": "python",
   "pygments_lexer": "ipython3",
   "version": "3.5.3"
  }
 },
 "nbformat": 4,
 "nbformat_minor": 2
}
