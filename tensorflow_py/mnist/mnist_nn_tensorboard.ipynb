{
 "cells": [
  {
   "cell_type": "code",
   "execution_count": 1,
   "metadata": {
    "collapsed": true
   },
   "outputs": [],
   "source": [
    "import tensorflow as tf\n",
    "from tensorflow.examples.tutorials.mnist import input_data"
   ]
  },
  {
   "cell_type": "markdown",
   "metadata": {},
   "source": [
    "# parameters setting and load data"
   ]
  },
  {
   "cell_type": "code",
   "execution_count": 2,
   "metadata": {},
   "outputs": [
    {
     "name": "stdout",
     "output_type": "stream",
     "text": [
      "Extracting MNIST_data\\train-images-idx3-ubyte.gz\n",
      "Extracting MNIST_data\\train-labels-idx1-ubyte.gz\n",
      "Extracting MNIST_data\\t10k-images-idx3-ubyte.gz\n",
      "Extracting MNIST_data\\t10k-labels-idx1-ubyte.gz\n"
     ]
    }
   ],
   "source": [
    "max_steps = 1000\n",
    "learning_rate = 0.001\n",
    "dropout = 0.9\n",
    "data_dir='MNIST_data'\n",
    "log_dir='logs/mnist_with_summaries'\n",
    "\n",
    "mnist = input_data.read_data_sets(data_dir, one_hot=True)\n",
    "sess = tf.InteractiveSession()"
   ]
  },
  {
   "cell_type": "markdown",
   "metadata": {},
   "source": [
    "# image summary to tensorboard"
   ]
  },
  {
   "cell_type": "code",
   "execution_count": 3,
   "metadata": {
    "collapsed": true
   },
   "outputs": [],
   "source": [
    "with tf.name_scope('input'):\n",
    "    x = tf.placeholder(tf.float32, [None, 784], name='x-input')\n",
    "    y_ = tf.placeholder(tf.float32, [None, 10], name='y-input')\n",
    "    \n",
    "with tf.name_scope('input_reshape'):\n",
    "    image_shaped_input = tf.reshape(x, [-1, 28, 28, 1])\n",
    "    tf.summary.image('input', image_shaped_input, 10)"
   ]
  },
  {
   "cell_type": "markdown",
   "metadata": {},
   "source": [
    "# nn model init function"
   ]
  },
  {
   "cell_type": "code",
   "execution_count": 4,
   "metadata": {
    "collapsed": true
   },
   "outputs": [],
   "source": [
    "def weight_variable(shape):\n",
    "    initial = tf.truncated_normal(shape, stddev=0.1)\n",
    "    return tf.Variable(initial)\n",
    "\n",
    "def bias_variable(shape):\n",
    "    initial = tf.constant(0.1, shape=shape)\n",
    "    return tf.Variable(initial)"
   ]
  },
  {
   "cell_type": "markdown",
   "metadata": {},
   "source": [
    "# Variable summary function"
   ]
  },
  {
   "cell_type": "code",
   "execution_count": 5,
   "metadata": {
    "collapsed": true
   },
   "outputs": [],
   "source": [
    "def variable_summaries(var):\n",
    "    with tf.name_scope('summaries'):\n",
    "        mean = tf.reduce_mean(var)\n",
    "        tf.summary.scalar('mean', mean)\n",
    "        with tf.name_scope('stddev'):\n",
    "            stddev = tf.sqrt(tf.reduce_mean(tf.square(var - mean)))\n",
    "        tf.summary.scalar('stddev', stddev)\n",
    "        tf.summary.scalar('max', tf.reduce_max(var))\n",
    "        tf.summary.scalar('min', tf.reduce_min(var))\n",
    "        tf.summary.histogram('histogram', var)"
   ]
  },
  {
   "cell_type": "markdown",
   "metadata": {},
   "source": [
    "# mlp nn summary function"
   ]
  },
  {
   "cell_type": "code",
   "execution_count": 6,
   "metadata": {
    "collapsed": true
   },
   "outputs": [],
   "source": [
    "def nn_layer(input_tensor, input_dim, output_dim, layer_name, act=tf.nn.relu):\n",
    "    with tf.name_scope(layer_name):\n",
    "        with tf.name_scope('weights'):\n",
    "            weights = weight_variable([input_dim, output_dim])\n",
    "            variable_summaries(weights)\n",
    "        with tf.name_scope('biases'):\n",
    "            biases = bias_variable([output_dim])\n",
    "            variable_summaries(biases)\n",
    "        with tf.name_scope('wx_plus_b'):\n",
    "            preactivate = tf.matmul(input_tensor, weights) + biases\n",
    "            tf.summary.histogram('pre_activations', preactivate)\n",
    "        activations = act(preactivate, name='activation')\n",
    "        tf.summary.histogram('activations', activations)\n",
    "        return activations"
   ]
  },
  {
   "cell_type": "markdown",
   "metadata": {},
   "source": [
    "# dropout summary"
   ]
  },
  {
   "cell_type": "code",
   "execution_count": 7,
   "metadata": {
    "collapsed": true
   },
   "outputs": [],
   "source": [
    "hidden1 = nn_layer(x, 784, 500, 'layer1')\n",
    "\n",
    "with tf.name_scope('dropout'):\n",
    "    keep_prob = tf.placeholder(tf.float32)\n",
    "    tf.summary.scalar('dropout_keep_probability', keep_prob)\n",
    "    dropped = tf.nn.dropout(hidden1, keep_prob)\n",
    "    \n",
    "y = nn_layer(dropped, 500, 10, 'layer2', act=tf.identity)"
   ]
  },
  {
   "cell_type": "markdown",
   "metadata": {},
   "source": [
    "# loss, optimizer, accuracy and summary.scalar"
   ]
  },
  {
   "cell_type": "code",
   "execution_count": 8,
   "metadata": {},
   "outputs": [
    {
     "data": {
      "text/plain": [
       "<tf.Tensor 'accuracy_1:0' shape=() dtype=string>"
      ]
     },
     "execution_count": 8,
     "metadata": {},
     "output_type": "execute_result"
    }
   ],
   "source": [
    "with tf.name_scope('cross_entropy'):\n",
    "    diff = tf.nn.softmax_cross_entropy_with_logits(logits=y, labels=y_)\n",
    "    with tf.name_scope('total'):\n",
    "        cross_entropy = tf.reduce_mean(diff)\n",
    "tf.summary.scalar('cross_entropy', cross_entropy)\n",
    "\n",
    "with tf.name_scope('train'):\n",
    "    train_step = tf.train.AdamOptimizer(learning_rate).minimize(cross_entropy)\n",
    "with tf.name_scope('accuracy'):\n",
    "    with tf.name_scope('correct_prediction'):\n",
    "        correct_prediction = tf.equal(tf.argmax(y,1), tf.argmax(y_,1))\n",
    "    with tf.name_scope('accuracy'):\n",
    "        accuracy = tf.reduce_mean(tf.cast(correct_prediction, tf.float32))\n",
    "tf.summary.scalar('accuracy', accuracy)"
   ]
  },
  {
   "cell_type": "markdown",
   "metadata": {},
   "source": [
    "# summary merge and file writer"
   ]
  },
  {
   "cell_type": "code",
   "execution_count": 9,
   "metadata": {
    "collapsed": true
   },
   "outputs": [],
   "source": [
    "merged = tf.summary.merge_all()\n",
    "train_writer = tf.summary.FileWriter(log_dir + '/train', sess.graph)\n",
    "test_writer = tf.summary.FileWriter(log_dir + '/test')\n",
    "tf.global_variables_initializer().run()"
   ]
  },
  {
   "cell_type": "markdown",
   "metadata": {},
   "source": [
    "# feed_dict dropout function"
   ]
  },
  {
   "cell_type": "code",
   "execution_count": 10,
   "metadata": {
    "collapsed": true
   },
   "outputs": [],
   "source": [
    "def feed_dict(train):\n",
    "    if train:\n",
    "        xs, ys = mnist.train.next_batch(100)\n",
    "        k = dropout\n",
    "    else:\n",
    "        xs, ys = mnist.test.images, mnist.test.labels\n",
    "        k = 1.0\n",
    "    return {x: xs, y_: ys, keep_prob: k}"
   ]
  },
  {
   "cell_type": "markdown",
   "metadata": {},
   "source": [
    "# train, test and log save"
   ]
  },
  {
   "cell_type": "code",
   "execution_count": 11,
   "metadata": {
    "scrolled": false
   },
   "outputs": [
    {
     "name": "stdout",
     "output_type": "stream",
     "text": [
      "Accuracy at step 0: 0.0733\n",
      "Accuracy at step 10: 0.6929\n",
      "Accuracy at step 20: 0.8253\n",
      "Accuracy at step 30: 0.862\n",
      "Accuracy at step 40: 0.8807\n",
      "Accuracy at step 50: 0.8926\n",
      "Accuracy at step 60: 0.9033\n",
      "Accuracy at step 70: 0.9052\n",
      "Accuracy at step 80: 0.9109\n",
      "Accuracy at step 90: 0.9089\n",
      "Adding run metadata for 99\n",
      "Accuracy at step 100: 0.9177\n",
      "Accuracy at step 110: 0.9209\n",
      "Accuracy at step 120: 0.9233\n",
      "Accuracy at step 130: 0.927\n",
      "Accuracy at step 140: 0.9236\n",
      "Accuracy at step 150: 0.9254\n",
      "Accuracy at step 160: 0.9305\n",
      "Accuracy at step 170: 0.9285\n",
      "Accuracy at step 180: 0.9295\n",
      "Accuracy at step 190: 0.9321\n",
      "Adding run metadata for 199\n",
      "Accuracy at step 200: 0.9337\n",
      "Accuracy at step 210: 0.9341\n",
      "Accuracy at step 220: 0.9372\n",
      "Accuracy at step 230: 0.9373\n",
      "Accuracy at step 240: 0.937\n",
      "Accuracy at step 250: 0.9422\n",
      "Accuracy at step 260: 0.942\n",
      "Accuracy at step 270: 0.9415\n",
      "Accuracy at step 280: 0.942\n",
      "Accuracy at step 290: 0.9403\n",
      "Adding run metadata for 299\n",
      "Accuracy at step 300: 0.9424\n",
      "Accuracy at step 310: 0.9455\n",
      "Accuracy at step 320: 0.9467\n",
      "Accuracy at step 330: 0.9447\n",
      "Accuracy at step 340: 0.9496\n",
      "Accuracy at step 350: 0.947\n",
      "Accuracy at step 360: 0.9483\n",
      "Accuracy at step 370: 0.9493\n",
      "Accuracy at step 380: 0.9487\n",
      "Accuracy at step 390: 0.9506\n",
      "Adding run metadata for 399\n",
      "Accuracy at step 400: 0.9523\n",
      "Accuracy at step 410: 0.9526\n",
      "Accuracy at step 420: 0.9539\n",
      "Accuracy at step 430: 0.9536\n",
      "Accuracy at step 440: 0.9552\n",
      "Accuracy at step 450: 0.9539\n",
      "Accuracy at step 460: 0.9531\n",
      "Accuracy at step 470: 0.9558\n",
      "Accuracy at step 480: 0.9593\n",
      "Accuracy at step 490: 0.9564\n",
      "Adding run metadata for 499\n",
      "Accuracy at step 500: 0.9547\n",
      "Accuracy at step 510: 0.9558\n",
      "Accuracy at step 520: 0.9557\n",
      "Accuracy at step 530: 0.9586\n",
      "Accuracy at step 540: 0.958\n",
      "Accuracy at step 550: 0.9582\n",
      "Accuracy at step 560: 0.957\n",
      "Accuracy at step 570: 0.9588\n",
      "Accuracy at step 580: 0.9624\n",
      "Accuracy at step 590: 0.9579\n",
      "Adding run metadata for 599\n",
      "Accuracy at step 600: 0.9609\n",
      "Accuracy at step 610: 0.962\n",
      "Accuracy at step 620: 0.9622\n",
      "Accuracy at step 630: 0.9617\n",
      "Accuracy at step 640: 0.9607\n",
      "Accuracy at step 650: 0.9611\n",
      "Accuracy at step 660: 0.9617\n",
      "Accuracy at step 670: 0.963\n",
      "Accuracy at step 680: 0.962\n",
      "Accuracy at step 690: 0.9622\n",
      "Adding run metadata for 699\n",
      "Accuracy at step 700: 0.961\n",
      "Accuracy at step 710: 0.9615\n",
      "Accuracy at step 720: 0.9643\n",
      "Accuracy at step 730: 0.9645\n",
      "Accuracy at step 740: 0.9651\n",
      "Accuracy at step 750: 0.9662\n",
      "Accuracy at step 760: 0.9647\n",
      "Accuracy at step 770: 0.9637\n",
      "Accuracy at step 780: 0.9643\n",
      "Accuracy at step 790: 0.9644\n",
      "Adding run metadata for 799\n",
      "Accuracy at step 800: 0.9656\n",
      "Accuracy at step 810: 0.9647\n",
      "Accuracy at step 820: 0.9663\n",
      "Accuracy at step 830: 0.9645\n",
      "Accuracy at step 840: 0.9654\n",
      "Accuracy at step 850: 0.9672\n",
      "Accuracy at step 860: 0.9635\n",
      "Accuracy at step 870: 0.9671\n",
      "Accuracy at step 880: 0.9676\n",
      "Accuracy at step 890: 0.9656\n",
      "Adding run metadata for 899\n",
      "Accuracy at step 900: 0.9665\n",
      "Accuracy at step 910: 0.9669\n",
      "Accuracy at step 920: 0.9681\n",
      "Accuracy at step 930: 0.9684\n",
      "Accuracy at step 940: 0.9672\n",
      "Accuracy at step 950: 0.9685\n",
      "Accuracy at step 960: 0.9678\n",
      "Accuracy at step 970: 0.9673\n",
      "Accuracy at step 980: 0.9668\n",
      "Accuracy at step 990: 0.9677\n",
      "Adding run metadata for 999\n"
     ]
    }
   ],
   "source": [
    "saver = tf.train.Saver()\n",
    "for i in range(max_steps):\n",
    "    if i % 10 == 0:\n",
    "        summary, acc = sess.run([merged, accuracy], feed_dict=feed_dict(False))\n",
    "        test_writer.add_summary(summary, i)\n",
    "        print('Accuracy at step %s: %s' % (i, acc))\n",
    "    else:\n",
    "        if i % 100 == 99:\n",
    "            run_options = tf.RunOptions(trace_level=tf.RunOptions.FULL_TRACE)\n",
    "            run_metadata = tf.RunMetadata()\n",
    "            summary, _ = sess.run([merged, train_step], feed_dict=feed_dict(True),\n",
    "                                 options=run_options, run_metadata=run_metadata)\n",
    "            train_writer.add_run_metadata(run_metadata, 'step%03d' % i)\n",
    "            train_writer.add_summary(summary, i)\n",
    "            saver.save(sess, log_dir+\"/model.ckpt\", i)\n",
    "            print(\"Adding run metadata for\", i)\n",
    "        else:\n",
    "            summary, _ = sess.run([merged, train_step], feed_dict=feed_dict(True))\n",
    "            train_writer.add_summary(summary, i)\n",
    "train_writer.close()\n",
    "test_writer.close()"
   ]
  },
  {
   "cell_type": "markdown",
   "metadata": {},
   "source": [
    "# command on console:"
   ]
  },
  {
   "cell_type": "markdown",
   "metadata": {},
   "source": [
    "## tensorboard --logdir=logs/mnist_with_summaries"
   ]
  }
 ],
 "metadata": {
  "kernelspec": {
   "display_name": "Python 2",
   "language": "python",
   "name": "python2"
  },
  "language_info": {
   "codemirror_mode": {
    "name": "ipython",
    "version": 2
   },
   "file_extension": ".py",
   "mimetype": "text/x-python",
   "name": "python",
   "nbconvert_exporter": "python",
   "pygments_lexer": "ipython2",
   "version": "2.7.12"
  }
 },
 "nbformat": 4,
 "nbformat_minor": 2
}
