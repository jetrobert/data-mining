{
 "cells": [
  {
   "cell_type": "code",
   "execution_count": 1,
   "metadata": {
    "collapsed": true
   },
   "outputs": [],
   "source": [
    "import tensorflow as tf"
   ]
  },
  {
   "cell_type": "markdown",
   "metadata": {},
   "source": [
    "# features function"
   ]
  },
  {
   "cell_type": "code",
   "execution_count": 2,
   "metadata": {
    "collapsed": true
   },
   "outputs": [],
   "source": [
    "def input_fn():\n",
    "    return {'example_id': tf.constant(['1', '2', '3']),\n",
    "                'feature1': tf.constant([[0.0], [1.0], [3.0]]),\n",
    "                'feature2': tf.constant([[0.0], [-1.2], [1.0]]),}, tf.constant([[1], [0], [1]])\n",
    "\n",
    "feature1 = tf.contrib.layers.real_valued_column('feature1')\n",
    "feature2 = tf.contrib.layers.real_valued_column('feature2')"
   ]
  },
  {
   "cell_type": "markdown",
   "metadata": {},
   "source": [
    "# classifier and evaluate"
   ]
  },
  {
   "cell_type": "code",
   "execution_count": 3,
   "metadata": {},
   "outputs": [
    {
     "name": "stdout",
     "output_type": "stream",
     "text": [
      "INFO:tensorflow:Using default config.\n",
      "INFO:tensorflow:Using config: {'_evaluation_master': '', '_master': '', '_task_id': 0, '_keep_checkpoint_max': 5, '_is_chief': True, '_keep_checkpoint_every_n_hours': 10000, '_tf_config': gpu_options {\n",
      "  per_process_gpu_memory_fraction: 1\n",
      "}\n",
      ", '_save_checkpoints_secs': 600, '_model_dir': None, '_num_ps_replicas': 0, '_num_worker_replicas': 0, '_cluster_spec': <tensorflow.python.training.server_lib.ClusterSpec object at 0x0000019BF4E92A20>, '_tf_random_seed': None, '_save_summary_steps': 100, '_environment': 'local', '_save_checkpoints_steps': None, '_task_type': None}\n",
      "WARNING:tensorflow:Using temporary folder as model directory: C:\\Users\\jet\\AppData\\Local\\Temp\\tmplkk8tfad\n",
      "WARNING:tensorflow:tf.variable_op_scope(values, name, default_name) is deprecated, use tf.variable_scope(name, default_name, values)\n",
      "INFO:tensorflow:Created variable linear/bias_weight:0, with device=\n",
      "WARNING:tensorflow:From d:\\programfiles\\python35\\lib\\site-packages\\tensorflow\\contrib\\learn\\python\\learn\\estimators\\head.py:1194: hinge_loss (from tensorflow.contrib.losses.python.losses.loss_ops) is deprecated and will be removed after 2016-12-30.\n",
      "Instructions for updating:\n",
      "Use tf.losses.hinge_loss instead. Note that the order of the predictions and labels arguments were changed.\n",
      "WARNING:tensorflow:From d:\\programfiles\\python35\\lib\\site-packages\\tensorflow\\contrib\\learn\\python\\learn\\estimators\\head.py:615: scalar_summary (from tensorflow.python.ops.logging_ops) is deprecated and will be removed after 2016-11-30.\n",
      "Instructions for updating:\n",
      "Please switch to tf.summary.scalar. Note that tf.summary.scalar uses the node name instead of the tag. This means that TensorFlow will automatically de-duplicate summary names based on the scope they are created in. Also, passing a tensor or list of tags to a scalar summary op is no longer supported.\n",
      "INFO:tensorflow:Create CheckpointSaverHook.\n",
      "INFO:tensorflow:Saving checkpoints for 1 into C:\\Users\\jet\\AppData\\Local\\Temp\\tmplkk8tfad\\model.ckpt.\n",
      "INFO:tensorflow:step = 1, loss = 1.0\n",
      "INFO:tensorflow:Saving checkpoints for 30 into C:\\Users\\jet\\AppData\\Local\\Temp\\tmplkk8tfad\\model.ckpt.\n",
      "INFO:tensorflow:Loss for final step: 0.182222.\n",
      "WARNING:tensorflow:tf.variable_op_scope(values, name, default_name) is deprecated, use tf.variable_scope(name, default_name, values)\n",
      "INFO:tensorflow:Created variable linear/bias_weight:0, with device=\n",
      "WARNING:tensorflow:From d:\\programfiles\\python35\\lib\\site-packages\\tensorflow\\contrib\\learn\\python\\learn\\estimators\\head.py:1194: hinge_loss (from tensorflow.contrib.losses.python.losses.loss_ops) is deprecated and will be removed after 2016-12-30.\n",
      "Instructions for updating:\n",
      "Use tf.losses.hinge_loss instead. Note that the order of the predictions and labels arguments were changed.\n",
      "WARNING:tensorflow:From d:\\programfiles\\python35\\lib\\site-packages\\tensorflow\\contrib\\learn\\python\\learn\\estimators\\head.py:615: scalar_summary (from tensorflow.python.ops.logging_ops) is deprecated and will be removed after 2016-11-30.\n",
      "Instructions for updating:\n",
      "Please switch to tf.summary.scalar. Note that tf.summary.scalar uses the node name instead of the tag. This means that TensorFlow will automatically de-duplicate summary names based on the scope they are created in. Also, passing a tensor or list of tags to a scalar summary op is no longer supported.\n",
      "INFO:tensorflow:Starting evaluation at 2017-06-28-14:35:14\n",
      "INFO:tensorflow:Restoring parameters from C:\\Users\\jet\\AppData\\Local\\Temp\\tmplkk8tfad\\model.ckpt-30\n",
      "INFO:tensorflow:Evaluation [1/1]\n",
      "INFO:tensorflow:Finished evaluation at 2017-06-28-14:35:14\n",
      "INFO:tensorflow:Saving dict for global step 30: accuracy = 1.0, global_step = 30, loss = 0.182222\n",
      "WARNING:tensorflow:Skipping summary for global_step, must be a float or np.float32.\n",
      "loss:  0.182222\n",
      "accuracy:  1.0\n"
     ]
    }
   ],
   "source": [
    "svm_classifier = tf.contrib.learn.SVM(feature_columns=[feature1, feature2],\n",
    "                                     example_id_column='example_id',\n",
    "                                     l1_regularization=0.0, l2_regularization=0.0)\n",
    "\n",
    "svm_classifier.fit(input_fn=input_fn, steps=30)\n",
    "metrics = svm_classifier.evaluate(input_fn=input_fn, steps=1)\n",
    "loss = metrics['loss']\n",
    "accuracy = metrics['accuracy']\n",
    "print('loss: ', loss)\n",
    "print('accuracy: ', accuracy)"
   ]
  }
 ],
 "metadata": {
  "kernelspec": {
   "display_name": "Python 3",
   "language": "python",
   "name": "python3"
  },
  "language_info": {
   "codemirror_mode": {
    "name": "ipython",
    "version": 3
   },
   "file_extension": ".py",
   "mimetype": "text/x-python",
   "name": "python",
   "nbconvert_exporter": "python",
   "pygments_lexer": "ipython3",
   "version": "3.5.3"
  }
 },
 "nbformat": 4,
 "nbformat_minor": 2
}
