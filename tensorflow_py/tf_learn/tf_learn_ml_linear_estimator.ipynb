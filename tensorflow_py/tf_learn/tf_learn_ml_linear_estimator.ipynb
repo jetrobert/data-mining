{
 "cells": [
  {
   "cell_type": "code",
   "execution_count": 1,
   "metadata": {
    "collapsed": true
   },
   "outputs": [],
   "source": [
    "import tensorflow as tf"
   ]
  },
  {
   "cell_type": "markdown",
   "metadata": {},
   "source": [
    "# input data "
   ]
  },
  {
   "cell_type": "code",
   "execution_count": 2,
   "metadata": {
    "collapsed": true
   },
   "outputs": [],
   "source": [
    "def input_fn():\n",
    "    return {\n",
    "        'age': tf.constant([1]),\n",
    "        'language': tf.SparseTensor(values=['english'], \n",
    "                    indices=[[0, 0]], dense_shape=[1, 1])}, tf.constant([[1]])\n",
    "\n",
    "language = tf.contrib.layers.sparse_column_with_hash_bucket('language', 100)\n",
    "age = tf.contrib.layers.real_valued_column('age')"
   ]
  },
  {
   "cell_type": "markdown",
   "metadata": {},
   "source": [
    "# classifier"
   ]
  },
  {
   "cell_type": "code",
   "execution_count": 3,
   "metadata": {},
   "outputs": [
    {
     "name": "stdout",
     "output_type": "stream",
     "text": [
      "INFO:tensorflow:Using default config.\n",
      "INFO:tensorflow:Using config: {'_model_dir': None, '_save_checkpoints_secs': 600, '_num_ps_replicas': 0, '_keep_checkpoint_max': 5, '_tf_random_seed': None, '_task_type': None, '_environment': 'local', '_is_chief': True, '_cluster_spec': <tensorflow.python.training.server_lib.ClusterSpec object at 0x7f370e396810>, '_tf_config': gpu_options {\n",
      "  per_process_gpu_memory_fraction: 1.0\n",
      "}\n",
      ", '_num_worker_replicas': 0, '_task_id': 0, '_save_summary_steps': 100, '_save_checkpoints_steps': None, '_evaluation_master': '', '_keep_checkpoint_every_n_hours': 10000, '_master': ''}\n",
      "WARNING:tensorflow:Using temporary folder as model directory: /tmp/tmp8iPb9H\n"
     ]
    }
   ],
   "source": [
    "'''\n",
    "classifier = tf.contrib.learn.LinearClassifier(\n",
    "                feature_columns=[age, language])\n",
    "'''\n",
    "\n",
    "classifier = tf.contrib.learn.LinearClassifier(\n",
    "                n_classes=3,\n",
    "                optimizer=tf.train.FtrlOptimizer(learning_rate=0.1),\n",
    "                feature_columns=[age, language])"
   ]
  },
  {
   "cell_type": "markdown",
   "metadata": {},
   "source": [
    "# classifier evaluate"
   ]
  },
  {
   "cell_type": "code",
   "execution_count": 4,
   "metadata": {},
   "outputs": [
    {
     "name": "stdout",
     "output_type": "stream",
     "text": [
      "WARNING:tensorflow:Rank of input Tensor (1) should be the same as output_rank (2) for column. Will attempt to expand dims. It is highly recommended that you resize your input, as this behavior may change.\n",
      "WARNING:tensorflow:From /usr/local/lib/python2.7/dist-packages/tensorflow/contrib/learn/python/learn/estimators/head.py:615: scalar_summary (from tensorflow.python.ops.logging_ops) is deprecated and will be removed after 2016-11-30.\n",
      "Instructions for updating:\n",
      "Please switch to tf.summary.scalar. Note that tf.summary.scalar uses the node name instead of the tag. This means that TensorFlow will automatically de-duplicate summary names based on the scope they are created in. Also, passing a tensor or list of tags to a scalar summary op is no longer supported.\n",
      "INFO:tensorflow:Create CheckpointSaverHook.\n",
      "INFO:tensorflow:Saving checkpoints for 1 into /tmp/tmp8iPb9H/model.ckpt.\n",
      "INFO:tensorflow:loss = 1.09861, step = 1\n",
      "INFO:tensorflow:Saving checkpoints for 100 into /tmp/tmp8iPb9H/model.ckpt.\n",
      "INFO:tensorflow:Loss for final step: 0.0261796.\n",
      "WARNING:tensorflow:Rank of input Tensor (1) should be the same as output_rank (2) for column. Will attempt to expand dims. It is highly recommended that you resize your input, as this behavior may change.\n",
      "WARNING:tensorflow:From /usr/local/lib/python2.7/dist-packages/tensorflow/contrib/learn/python/learn/estimators/head.py:615: scalar_summary (from tensorflow.python.ops.logging_ops) is deprecated and will be removed after 2016-11-30.\n",
      "Instructions for updating:\n",
      "Please switch to tf.summary.scalar. Note that tf.summary.scalar uses the node name instead of the tag. This means that TensorFlow will automatically de-duplicate summary names based on the scope they are created in. Also, passing a tensor or list of tags to a scalar summary op is no longer supported.\n",
      "INFO:tensorflow:Starting evaluation at 2017-06-28-07:40:35\n",
      "INFO:tensorflow:Restoring parameters from /tmp/tmp8iPb9H/model.ckpt-100\n",
      "INFO:tensorflow:Evaluation [1/1]\n",
      "INFO:tensorflow:Finished evaluation at 2017-06-28-07:40:35\n",
      "INFO:tensorflow:Saving dict for global step 100: accuracy = 1.0, global_step = 100, loss = 0.0259194\n",
      "WARNING:tensorflow:Skipping summary for global_step, must be a float or np.float32.\n"
     ]
    },
    {
     "data": {
      "text/plain": [
       "['global_step',\n",
       " 'linear/age/weight',\n",
       " 'linear/age/weight/inear/age/weight/part_0/Ftrl',\n",
       " 'linear/age/weight/inear/age/weight/part_0/Ftrl_1',\n",
       " 'linear/bias_weight',\n",
       " 'linear/bias_weight/near/bias_weight/part_0/Ftrl',\n",
       " 'linear/bias_weight/near/bias_weight/part_0/Ftrl_1',\n",
       " 'linear/language/weights',\n",
       " 'linear/language/weights/language/weights/part_0/Ftrl',\n",
       " 'linear/language/weights/language/weights/part_0/Ftrl_1']"
      ]
     },
     "execution_count": 4,
     "metadata": {},
     "output_type": "execute_result"
    }
   ],
   "source": [
    "classifier.fit(input_fn=input_fn, steps=100)\n",
    "classifier.evaluate(input_fn=input_fn, steps=1)['loss']\n",
    "classifier.get_variable_names()"
   ]
  }
 ],
 "metadata": {
  "kernelspec": {
   "display_name": "Python 2",
   "language": "python",
   "name": "python2"
  },
  "language_info": {
   "codemirror_mode": {
    "name": "ipython",
    "version": 2
   },
   "file_extension": ".py",
   "mimetype": "text/x-python",
   "name": "python",
   "nbconvert_exporter": "python",
   "pygments_lexer": "ipython2",
   "version": "2.7.12"
  }
 },
 "nbformat": 4,
 "nbformat_minor": 2
}
