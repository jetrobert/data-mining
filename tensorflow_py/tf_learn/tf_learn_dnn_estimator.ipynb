{
 "cells": [
  {
   "cell_type": "code",
   "execution_count": 1,
   "metadata": {
    "collapsed": true
   },
   "outputs": [],
   "source": [
    "import tensorflow as tf"
   ]
  },
  {
   "cell_type": "markdown",
   "metadata": {},
   "source": [
    "# age and language features function"
   ]
  },
  {
   "cell_type": "code",
   "execution_count": 25,
   "metadata": {
    "collapsed": true
   },
   "outputs": [],
   "source": [
    "def _input_fn(num_epochs=None):\n",
    "    features = {'age': tf.train.limit_epochs(tf.constant([[.8], [.2], [.1]]),\n",
    "                                            num_epochs=num_epochs),\n",
    "                'language': tf.SparseTensor(values=['en', 'fr', 'zh'],\n",
    "                                           indices=[[0, 0], [0, 1], [2, 0]],\n",
    "                                           dense_shape=[3, 2])}\n",
    "    return features, tf.constant([[1], [0], [0]], dtype=tf.int32)"
   ]
  },
  {
   "cell_type": "markdown",
   "metadata": {},
   "source": [
    "# feature columns"
   ]
  },
  {
   "cell_type": "code",
   "execution_count": 26,
   "metadata": {},
   "outputs": [
    {
     "name": "stdout",
     "output_type": "stream",
     "text": [
      "WARNING:tensorflow:The default stddev value of initializer will change from \"1/sqrt(vocab_size)\" to \"1/sqrt(dimension)\" after 2017/02/25.\n"
     ]
    }
   ],
   "source": [
    "language_column = tf.contrib.layers.sparse_column_with_hash_bucket(\n",
    "                    'language', hash_bucket_size=20)\n",
    "feature_columns = [tf.contrib.layers.embedding_column(language_column, 1),\n",
    "                   tf.contrib.layers.real_valued_column('age')]"
   ]
  },
  {
   "cell_type": "markdown",
   "metadata": {},
   "source": [
    "# dnn classifier"
   ]
  },
  {
   "cell_type": "code",
   "execution_count": 27,
   "metadata": {},
   "outputs": [
    {
     "name": "stdout",
     "output_type": "stream",
     "text": [
      "INFO:tensorflow:Using config: {'_model_dir': None, '_save_checkpoints_secs': 600, '_num_ps_replicas': 0, '_keep_checkpoint_max': 5, '_tf_random_seed': 1, '_task_type': None, '_environment': 'local', '_is_chief': True, '_cluster_spec': <tensorflow.python.training.server_lib.ClusterSpec object at 0x7f0f9663fad0>, '_tf_config': gpu_options {\n",
      "  per_process_gpu_memory_fraction: 1.0\n",
      "}\n",
      ", '_num_worker_replicas': 0, '_task_id': 0, '_save_summary_steps': 100, '_save_checkpoints_steps': None, '_evaluation_master': '', '_keep_checkpoint_every_n_hours': 10000, '_master': ''}\n",
      "WARNING:tensorflow:Using temporary folder as model directory: /tmp/tmpLeHrX1\n"
     ]
    }
   ],
   "source": [
    "classifier = tf.contrib.learn.DNNClassifier(\n",
    "            n_classes=2,\n",
    "            feature_columns= feature_columns,\n",
    "            hidden_units=[3, 3],\n",
    "            config=tf.contrib.learn.RunConfig(tf_random_seed=1))"
   ]
  },
  {
   "cell_type": "markdown",
   "metadata": {},
   "source": [
    "# train and test"
   ]
  },
  {
   "cell_type": "code",
   "execution_count": 28,
   "metadata": {},
   "outputs": [
    {
     "name": "stdout",
     "output_type": "stream",
     "text": [
      "WARNING:tensorflow:From /usr/local/lib/python2.7/dist-packages/tensorflow/contrib/learn/python/learn/estimators/head.py:615: scalar_summary (from tensorflow.python.ops.logging_ops) is deprecated and will be removed after 2016-11-30.\n",
      "Instructions for updating:\n",
      "Please switch to tf.summary.scalar. Note that tf.summary.scalar uses the node name instead of the tag. This means that TensorFlow will automatically de-duplicate summary names based on the scope they are created in. Also, passing a tensor or list of tags to a scalar summary op is no longer supported.\n",
      "INFO:tensorflow:Create CheckpointSaverHook.\n",
      "INFO:tensorflow:Saving checkpoints for 1 into /tmp/tmpLeHrX1/model.ckpt.\n",
      "INFO:tensorflow:loss = 0.670367, step = 1\n",
      "INFO:tensorflow:Saving checkpoints for 100 into /tmp/tmpLeHrX1/model.ckpt.\n",
      "INFO:tensorflow:Loss for final step: 0.294909.\n",
      "WARNING:tensorflow:From /usr/local/lib/python2.7/dist-packages/tensorflow/contrib/learn/python/learn/estimators/head.py:615: scalar_summary (from tensorflow.python.ops.logging_ops) is deprecated and will be removed after 2016-11-30.\n",
      "Instructions for updating:\n",
      "Please switch to tf.summary.scalar. Note that tf.summary.scalar uses the node name instead of the tag. This means that TensorFlow will automatically de-duplicate summary names based on the scope they are created in. Also, passing a tensor or list of tags to a scalar summary op is no longer supported.\n",
      "INFO:tensorflow:Starting evaluation at 2017-06-28-06:21:18\n",
      "INFO:tensorflow:Restoring parameters from /tmp/tmpLeHrX1/model.ckpt-100\n",
      "INFO:tensorflow:Evaluation [1/1]\n",
      "INFO:tensorflow:Finished evaluation at 2017-06-28-06:21:18\n",
      "INFO:tensorflow:Saving dict for global step 100: accuracy = 1.0, accuracy/baseline_label_mean = 0.333333, accuracy/threshold_0.500000_mean = 1.0, auc = 1.0, global_step = 100, labels/actual_label_mean = 0.333333, labels/prediction_mean = 0.500935, loss = 0.293147, precision/positive_threshold_0.500000_mean = 1.0, recall/positive_threshold_0.500000_mean = 1.0\n",
      "WARNING:tensorflow:Skipping summary for global_step, must be a float or np.float32.\n",
      "('evaluation scores: ', {'accuracy/baseline_label_mean': 0.33333334, 'loss': 0.29314664, 'auc': 0.99999952, 'global_step': 100, 'accuracy/threshold_0.500000_mean': 1.0, 'recall/positive_threshold_0.500000_mean': 0.99999988, 'labels/prediction_mean': 0.5009352, 'accuracy': 1.0, 'precision/positive_threshold_0.500000_mean': 0.99999988, 'labels/actual_label_mean': 0.33333334})\n"
     ]
    }
   ],
   "source": [
    "classifier.fit(input_fn=_input_fn, steps=100)\n",
    "scores = classifier.evaluate(input_fn=_input_fn, steps=1)\n",
    "print(\"evaluation scores: \", scores)"
   ]
  }
 ],
 "metadata": {
  "kernelspec": {
   "display_name": "Python 3",
   "language": "python",
   "name": "python3"
  },
  "language_info": {
   "codemirror_mode": {
    "name": "ipython",
    "version": 3
   },
   "file_extension": ".py",
   "mimetype": "text/x-python",
   "name": "python",
   "nbconvert_exporter": "python",
   "pygments_lexer": "ipython3",
   "version": "3.5.3"
  }
 },
 "nbformat": 4,
 "nbformat_minor": 2
}
