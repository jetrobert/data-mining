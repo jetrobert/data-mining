{
 "cells": [
  {
   "cell_type": "code",
   "execution_count": 1,
   "metadata": {
    "collapsed": true
   },
   "outputs": [],
   "source": [
    "import tensorflow as tf"
   ]
  },
  {
   "cell_type": "markdown",
   "metadata": {},
   "source": [
    "# weights features function"
   ]
  },
  {
   "cell_type": "code",
   "execution_count": 2,
   "metadata": {
    "collapsed": true
   },
   "outputs": [],
   "source": [
    "def _input_fn_train():\n",
    "    target = tf.constant([[1], [0], [0], [0]])\n",
    "    features= {'x': tf.ones(shape=[4, 1], dtype=tf.float32),\n",
    "               'w': tf.constant([[100.], [3.], [2.], [2.]])}\n",
    "    return features, target"
   ]
  },
  {
   "cell_type": "markdown",
   "metadata": {},
   "source": [
    "# dnn classifier"
   ]
  },
  {
   "cell_type": "code",
   "execution_count": 3,
   "metadata": {},
   "outputs": [
    {
     "name": "stdout",
     "output_type": "stream",
     "text": [
      "INFO:tensorflow:Using config: {'_model_dir': None, '_save_checkpoints_secs': 600, '_num_ps_replicas': 0, '_keep_checkpoint_max': 5, '_tf_random_seed': 3, '_task_type': None, '_environment': 'local', '_is_chief': True, '_cluster_spec': <tensorflow.python.training.server_lib.ClusterSpec object at 0x7f98584e3f10>, '_tf_config': gpu_options {\n",
      "  per_process_gpu_memory_fraction: 1.0\n",
      "}\n",
      ", '_num_worker_replicas': 0, '_task_id': 0, '_save_summary_steps': 100, '_save_checkpoints_steps': None, '_evaluation_master': '', '_keep_checkpoint_every_n_hours': 10000, '_master': ''}\n",
      "WARNING:tensorflow:Using temporary folder as model directory: /tmp/tmpcZymtD\n"
     ]
    }
   ],
   "source": [
    "classifier = tf.contrib.learn.DNNClassifier(\n",
    "                weight_column_name='w',\n",
    "                feature_columns=[tf.contrib.layers.real_valued_column('x')],\n",
    "                hidden_units=[3, 3],\n",
    "                config=tf.contrib.learn.RunConfig(tf_random_seed=3))"
   ]
  },
  {
   "cell_type": "markdown",
   "metadata": {},
   "source": [
    "# train and test"
   ]
  },
  {
   "cell_type": "code",
   "execution_count": 4,
   "metadata": {},
   "outputs": [
    {
     "name": "stdout",
     "output_type": "stream",
     "text": [
      "WARNING:tensorflow:From /usr/local/lib/python2.7/dist-packages/tensorflow/contrib/learn/python/learn/estimators/head.py:615: scalar_summary (from tensorflow.python.ops.logging_ops) is deprecated and will be removed after 2016-11-30.\n",
      "Instructions for updating:\n",
      "Please switch to tf.summary.scalar. Note that tf.summary.scalar uses the node name instead of the tag. This means that TensorFlow will automatically de-duplicate summary names based on the scope they are created in. Also, passing a tensor or list of tags to a scalar summary op is no longer supported.\n",
      "INFO:tensorflow:Create CheckpointSaverHook.\n",
      "INFO:tensorflow:Saving checkpoints for 1 into /tmp/tmpcZymtD/model.ckpt.\n",
      "INFO:tensorflow:loss = 20.254, step = 1\n",
      "INFO:tensorflow:Saving checkpoints for 100 into /tmp/tmpcZymtD/model.ckpt.\n",
      "INFO:tensorflow:Loss for final step: 11.208.\n",
      "WARNING:tensorflow:From /usr/local/lib/python2.7/dist-packages/tensorflow/contrib/learn/python/learn/estimators/head.py:615: scalar_summary (from tensorflow.python.ops.logging_ops) is deprecated and will be removed after 2016-11-30.\n",
      "Instructions for updating:\n",
      "Please switch to tf.summary.scalar. Note that tf.summary.scalar uses the node name instead of the tag. This means that TensorFlow will automatically de-duplicate summary names based on the scope they are created in. Also, passing a tensor or list of tags to a scalar summary op is no longer supported.\n",
      "INFO:tensorflow:Starting evaluation at 2017-06-28-06:34:03\n",
      "INFO:tensorflow:Restoring parameters from /tmp/tmpcZymtD/model.ckpt-100\n",
      "INFO:tensorflow:Evaluation [1/1]\n",
      "INFO:tensorflow:Finished evaluation at 2017-06-28-06:34:03\n",
      "INFO:tensorflow:Saving dict for global step 100: accuracy = 0.934579, accuracy/baseline_label_mean = 0.934579, accuracy/threshold_0.500000_mean = 0.934579, auc = 0.5, global_step = 100, labels/actual_label_mean = 0.934579, labels/prediction_mean = 0.694709, loss = 0.418053, precision/positive_threshold_0.500000_mean = 0.934579, recall/positive_threshold_0.500000_mean = 1.0\n",
      "WARNING:tensorflow:Skipping summary for global_step, must be a float or np.float32.\n",
      "('evaluation scores: ', {'accuracy/baseline_label_mean': 0.93457943, 'loss': 0.41805282, 'auc': 0.49999994, 'global_step': 100, 'accuracy/threshold_0.500000_mean': 0.93457943, 'recall/positive_threshold_0.500000_mean': 1.0, 'labels/prediction_mean': 0.694709, 'accuracy': 0.93457943, 'precision/positive_threshold_0.500000_mean': 0.93457943, 'labels/actual_label_mean': 0.93457943})\n"
     ]
    }
   ],
   "source": [
    "classifier.fit(input_fn=_input_fn_train, steps=100)\n",
    "scores = classifier.evaluate(input_fn=_input_fn_train, steps=1)\n",
    "print(\"evaluation scores: \", scores)"
   ]
  }
 ],
 "metadata": {
  "kernelspec": {
   "display_name": "Python 2",
   "language": "python",
   "name": "python2"
  },
  "language_info": {
   "codemirror_mode": {
    "name": "ipython",
    "version": 2
   },
   "file_extension": ".py",
   "mimetype": "text/x-python",
   "name": "python",
   "nbconvert_exporter": "python",
   "pygments_lexer": "ipython2",
   "version": "2.7.12"
  }
 },
 "nbformat": 4,
 "nbformat_minor": 2
}
