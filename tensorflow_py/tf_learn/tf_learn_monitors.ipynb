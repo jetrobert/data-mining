{
 "cells": [
  {
   "cell_type": "code",
   "execution_count": 22,
   "metadata": {},
   "outputs": [
    {
     "name": "stderr",
     "output_type": "stream",
     "text": [
      "d:\\programfiles\\python35\\lib\\site-packages\\sklearn\\cross_validation.py:44: DeprecationWarning: This module was deprecated in version 0.18 in favor of the model_selection module into which all the refactored classes and functions are moved. Also note that the interface of the new CV iterators are different from that of this module. This module will be removed in 0.20.\n",
      "  \"This module will be removed in 0.20.\", DeprecationWarning)\n"
     ]
    }
   ],
   "source": [
    "import tensorflow as tf\n",
    "from tensorflow.contrib import layers\n",
    "from tensorflow.contrib import learn\n",
    "from sklearn import datasets, cross_validation"
   ]
  },
  {
   "cell_type": "markdown",
   "metadata": {},
   "source": [
    "# log severity level: fatal>error>warn>info>debug"
   ]
  },
  {
   "cell_type": "code",
   "execution_count": 23,
   "metadata": {},
   "outputs": [],
   "source": [
    "tf.logging.set_verbosity(tf.logging.INFO)"
   ]
  },
  {
   "cell_type": "markdown",
   "metadata": {},
   "source": [
    "# model function"
   ]
  },
  {
   "cell_type": "code",
   "execution_count": 24,
   "metadata": {},
   "outputs": [],
   "source": [
    "def my_model(features, target):\n",
    "    target = tf.one_hot(target, 3, 1, 0)\n",
    "    features = layers.stack(features, layers.fully_connected, [10, 20, 10])\n",
    "    prediction, loss = tf.contrib.learn.models.logistic_regression_zero_init(features, \n",
    "                                                                             target)\n",
    "    train_op = tf.contrib.layers.optimize_loss(loss, \n",
    "                    tf.contrib.framework.get_global_step(), optimizer='Adagrad',\n",
    "                    learning_rate=0.1)\n",
    "    return {'class': tf.argmax(prediction, 1), 'prob': prediction}, loss, train_op"
   ]
  },
  {
   "cell_type": "markdown",
   "metadata": {},
   "source": [
    "# predict"
   ]
  },
  {
   "cell_type": "code",
   "execution_count": 25,
   "metadata": {},
   "outputs": [
    {
     "name": "stdout",
     "output_type": "stream",
     "text": [
      "INFO:tensorflow:Using default config.\n",
      "INFO:tensorflow:Using config: {'_cluster_spec': <tensorflow.python.training.server_lib.ClusterSpec object at 0x0000023B05549B00>, '_save_checkpoints_secs': 600, '_is_chief': True, '_task_type': None, '_model_dir': None, '_tf_config': gpu_options {\n",
      "  per_process_gpu_memory_fraction: 1\n",
      "}\n",
      ", '_num_worker_replicas': 0, '_keep_checkpoint_every_n_hours': 10000, '_keep_checkpoint_max': 5, '_master': '', '_task_id': 0, '_evaluation_master': '', '_num_ps_replicas': 0, '_save_summary_steps': 100, '_environment': 'local', '_save_checkpoints_steps': None, '_tf_random_seed': None}\n",
      "WARNING:tensorflow:Using temporary folder as model directory: C:\\Users\\jet\\AppData\\Local\\Temp\\tmpv1vocsa7\n",
      "WARNING:tensorflow:From <ipython-input-25-30ef4ddbad65>:8: calling BaseEstimator.fit (from tensorflow.contrib.learn.python.learn.estimators.estimator) with x is deprecated and will be removed after 2016-12-01.\n",
      "Instructions for updating:\n",
      "Estimator is decoupled from Scikit Learn interface by moving into\n",
      "separate class SKCompat. Arguments x, y and batch_size are only\n",
      "available in the SKCompat class, Estimator will only accept input_fn.\n",
      "Example conversion:\n",
      "  est = Estimator(...) -> est = SKCompat(Estimator(...))\n",
      "WARNING:tensorflow:From <ipython-input-25-30ef4ddbad65>:8: calling BaseEstimator.fit (from tensorflow.contrib.learn.python.learn.estimators.estimator) with y is deprecated and will be removed after 2016-12-01.\n",
      "Instructions for updating:\n",
      "Estimator is decoupled from Scikit Learn interface by moving into\n",
      "separate class SKCompat. Arguments x, y and batch_size are only\n",
      "available in the SKCompat class, Estimator will only accept input_fn.\n",
      "Example conversion:\n",
      "  est = Estimator(...) -> est = SKCompat(Estimator(...))\n",
      "WARNING:tensorflow:float64 is not supported by many models, consider casting to float32.\n"
     ]
    },
    {
     "name": "stderr",
     "output_type": "stream",
     "text": [
      "d:\\programfiles\\python35\\lib\\site-packages\\tensorflow\\python\\util\\deprecation.py:248: FutureWarning: comparison to `None` will result in an elementwise object comparison in the future.\n",
      "  equality = a == b\n"
     ]
    },
    {
     "name": "stdout",
     "output_type": "stream",
     "text": [
      "WARNING:tensorflow:From d:\\programfiles\\python35\\lib\\site-packages\\tensorflow\\contrib\\learn\\python\\learn\\models.py:173: softmax_classifier (from tensorflow.contrib.learn.python.learn.ops.losses_ops) is deprecated and will be removed after 2016-12-01.\n",
      "Instructions for updating:\n",
      "Use `tf.contrib.losses.softmax_cross_entropy` and explicit logits computation.\n",
      "WARNING:tensorflow:From d:\\programfiles\\python35\\lib\\site-packages\\tensorflow\\contrib\\learn\\python\\learn\\ops\\losses_ops.py:75: softmax_cross_entropy (from tensorflow.contrib.losses.python.losses.loss_ops) is deprecated and will be removed after 2016-12-30.\n",
      "Instructions for updating:\n",
      "Use tf.losses.softmax_cross_entropy instead. Note that the order of the logits and labels arguments has been changed.\n",
      "WARNING:tensorflow:From d:\\programfiles\\python35\\lib\\site-packages\\tensorflow\\contrib\\losses\\python\\losses\\loss_ops.py:398: compute_weighted_loss (from tensorflow.contrib.losses.python.losses.loss_ops) is deprecated and will be removed after 2016-12-30.\n",
      "Instructions for updating:\n",
      "Use tf.losses.compute_weighted_loss instead.\n",
      "WARNING:tensorflow:From d:\\programfiles\\python35\\lib\\site-packages\\tensorflow\\contrib\\losses\\python\\losses\\loss_ops.py:151: add_loss (from tensorflow.contrib.losses.python.losses.loss_ops) is deprecated and will be removed after 2016-12-30.\n",
      "Instructions for updating:\n",
      "Use tf.losses.add_loss instead.\n",
      "INFO:tensorflow:Create CheckpointSaverHook.\n",
      "INFO:tensorflow:Saving checkpoints for 1 into C:\\Users\\jet\\AppData\\Local\\Temp\\tmpv1vocsa7\\model.ckpt.\n",
      "INFO:tensorflow:step = 1, loss = 1.09861195087\n",
      "INFO:tensorflow:global_step/sec: 658.019\n",
      "INFO:tensorflow:step = 101, loss = 0.258949428797 (0.152 sec)\n",
      "INFO:tensorflow:global_step/sec: 844.296\n",
      "INFO:tensorflow:step = 201, loss = 0.0864908248186 (0.118 sec)\n",
      "INFO:tensorflow:global_step/sec: 719.51\n",
      "INFO:tensorflow:step = 301, loss = 0.067463465035 (0.142 sec)\n",
      "INFO:tensorflow:global_step/sec: 781.433\n",
      "INFO:tensorflow:step = 401, loss = 0.0641128048301 (0.125 sec)\n",
      "INFO:tensorflow:global_step/sec: 855.139\n",
      "INFO:tensorflow:step = 501, loss = 0.0609645843506 (0.117 sec)\n",
      "INFO:tensorflow:global_step/sec: 704.68\n",
      "INFO:tensorflow:step = 601, loss = 0.0586212128401 (0.146 sec)\n",
      "INFO:tensorflow:Saving checkpoints for 700 into C:\\Users\\jet\\AppData\\Local\\Temp\\tmpv1vocsa7\\model.ckpt.\n",
      "INFO:tensorflow:Loss for final step: 0.0558206550777.\n",
      "WARNING:tensorflow:From <ipython-input-25-30ef4ddbad65>:11: calling BaseEstimator.predict (from tensorflow.contrib.learn.python.learn.estimators.estimator) with x is deprecated and will be removed after 2016-12-01.\n",
      "Instructions for updating:\n",
      "Estimator is decoupled from Scikit Learn interface by moving into\n",
      "separate class SKCompat. Arguments x, y and batch_size are only\n",
      "available in the SKCompat class, Estimator will only accept input_fn.\n",
      "Example conversion:\n",
      "  est = Estimator(...) -> est = SKCompat(Estimator(...))\n",
      "WARNING:tensorflow:float64 is not supported by many models, consider casting to float32.\n",
      "WARNING:tensorflow:From d:\\programfiles\\python35\\lib\\site-packages\\tensorflow\\contrib\\learn\\python\\learn\\models.py:173: softmax_classifier (from tensorflow.contrib.learn.python.learn.ops.losses_ops) is deprecated and will be removed after 2016-12-01.\n",
      "Instructions for updating:\n",
      "Use `tf.contrib.losses.softmax_cross_entropy` and explicit logits computation.\n",
      "WARNING:tensorflow:From d:\\programfiles\\python35\\lib\\site-packages\\tensorflow\\contrib\\learn\\python\\learn\\ops\\losses_ops.py:75: softmax_cross_entropy (from tensorflow.contrib.losses.python.losses.loss_ops) is deprecated and will be removed after 2016-12-30.\n",
      "Instructions for updating:\n",
      "Use tf.losses.softmax_cross_entropy instead. Note that the order of the logits and labels arguments has been changed.\n",
      "WARNING:tensorflow:From d:\\programfiles\\python35\\lib\\site-packages\\tensorflow\\contrib\\losses\\python\\losses\\loss_ops.py:398: compute_weighted_loss (from tensorflow.contrib.losses.python.losses.loss_ops) is deprecated and will be removed after 2016-12-30.\n",
      "Instructions for updating:\n",
      "Use tf.losses.compute_weighted_loss instead.\n",
      "WARNING:tensorflow:From d:\\programfiles\\python35\\lib\\site-packages\\tensorflow\\contrib\\losses\\python\\losses\\loss_ops.py:151: add_loss (from tensorflow.contrib.losses.python.losses.loss_ops) is deprecated and will be removed after 2016-12-30.\n",
      "Instructions for updating:\n",
      "Use tf.losses.add_loss instead.\n",
      "INFO:tensorflow:Restoring parameters from C:\\Users\\jet\\AppData\\Local\\Temp\\tmpv1vocsa7\\model.ckpt-700\n",
      "predict:  <generator object BaseEstimator._predict_generator at 0x0000023B06F1BC50>\n"
     ]
    }
   ],
   "source": [
    "# load data\n",
    "iris = datasets.load_iris()\n",
    "x_train, x_test, y_train, y_test = cross_validation.train_test_split(\n",
    "        iris.data, iris.target, test_size=0.2, random_state=35)\n",
    "\n",
    "# build classifier\n",
    "classifier = learn.Estimator(model_fn=my_model)\n",
    "classifier.fit(x_train, y_train, steps=700)\n",
    "\n",
    "# predict\n",
    "predictions = classifier.predict(x_test)\n",
    "print(\"predict: \", predictions)"
   ]
  },
  {
   "cell_type": "code",
   "execution_count": null,
   "metadata": {
    "collapsed": true
   },
   "outputs": [],
   "source": []
  }
 ],
 "metadata": {
  "kernelspec": {
   "display_name": "Python 3",
   "language": "python",
   "name": "python3"
  },
  "language_info": {
   "codemirror_mode": {
    "name": "ipython",
    "version": 3
   },
   "file_extension": ".py",
   "mimetype": "text/x-python",
   "name": "python",
   "nbconvert_exporter": "python",
   "pygments_lexer": "ipython3",
   "version": "3.5.3"
  }
 },
 "nbformat": 4,
 "nbformat_minor": 2
}
