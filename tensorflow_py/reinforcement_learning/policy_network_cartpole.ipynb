{
 "cells": [
  {
   "cell_type": "code",
   "execution_count": 1,
   "metadata": {},
   "outputs": [
    {
     "name": "stderr",
     "output_type": "stream",
     "text": [
      "[2017-06-27 10:28:59,849] Making new env: CartPole-v0\n"
     ]
    }
   ],
   "source": [
    "import numpy as np\n",
    "import tensorflow as tf\n",
    "import gym\n",
    "env = gym.make('CartPole-v0')"
   ]
  },
  {
   "cell_type": "markdown",
   "metadata": {},
   "source": [
    "# random action policy"
   ]
  },
  {
   "cell_type": "code",
   "execution_count": 2,
   "metadata": {
    "scrolled": false
   },
   "outputs": [
    {
     "name": "stdout",
     "output_type": "stream",
     "text": [
      "('Reward for this episode was:', 23.0)\n",
      "('Reward for this episode was:', 11.0)\n",
      "('Reward for this episode was:', 25.0)\n",
      "('Reward for this episode was:', 21.0)\n",
      "('Reward for this episode was:', 35.0)\n",
      "('Reward for this episode was:', 35.0)\n",
      "('Reward for this episode was:', 30.0)\n",
      "('Reward for this episode was:', 16.0)\n",
      "('Reward for this episode was:', 38.0)\n",
      "('Reward for this episode was:', 11.0)\n"
     ]
    }
   ],
   "source": [
    "env.reset()\n",
    "random_episodes = 0\n",
    "reward_sum = 0\n",
    "while random_episodes < 10:\n",
    "    env.render()\n",
    "    observation, reward, done, _ = env.step(np.random.randint(0, 2))\n",
    "    reward_sum += reward\n",
    "    if done:\n",
    "        random_episodes += 1\n",
    "        print(\"Reward for this episode was:\", reward_sum)\n",
    "        reward_sum = 0\n",
    "        env.reset()"
   ]
  },
  {
   "cell_type": "markdown",
   "metadata": {},
   "source": [
    "# discount reward function"
   ]
  },
  {
   "cell_type": "code",
   "execution_count": 3,
   "metadata": {
    "collapsed": true
   },
   "outputs": [],
   "source": [
    "def discount_rewards(r):\n",
    "    discounted_r = np.zeros_like(r)\n",
    "    running_add = 0\n",
    "    for t in reversed(range(r.size)):\n",
    "        running_add = running_add * gmma + r[t]\n",
    "        discounted_r[t] = running_add\n",
    "    return discounted_r"
   ]
  },
  {
   "cell_type": "markdown",
   "metadata": {},
   "source": [
    "# simple mlp policy"
   ]
  },
  {
   "cell_type": "code",
   "execution_count": 4,
   "metadata": {},
   "outputs": [],
   "source": [
    "# hidden node nums\n",
    "h = 50\n",
    "batch_size = 25\n",
    "learning_rate = 1e-1\n",
    "# observation dimension\n",
    "d = 4\n",
    "# gmma = reward/discount\n",
    "gmma = 0.99\n",
    "\n",
    "# define network architecture\n",
    "observations = tf.placeholder(tf.float32, [None, d], name=\"input_x\")\n",
    "w1 = tf.get_variable(\"W1\", shape=[d, h],\n",
    "                    initializer=tf.contrib.layers.xavier_initializer())\n",
    "layer1 = tf.nn.relu(tf.matmul(observations, w1))\n",
    "w2 = tf.get_variable(\"W2\", shape=[h, 1],\n",
    "                    initializer=tf.contrib.layers.xavier_initializer())\n",
    "score = tf.matmul(layer1, w2)\n",
    "probability = tf.nn.sigmoid(score)\n",
    "\n",
    "# optimizer\n",
    "tvars = tf.trainable_variables()\n",
    "\n",
    "adam = tf.train.AdamOptimizer(learning_rate=learning_rate)\n",
    "w1grad = tf.placeholder(tf.float32, name=\"batch_grad1\")\n",
    "w2grad = tf.placeholder(tf.float32, name=\"batch_grad2\")\n",
    "batch_grad = [w1grad, w2grad]\n",
    "update_grads = adam.apply_gradients(zip(batch_grad, tvars))\n",
    "\n",
    "# placeholder and loss\n",
    "input_y = tf.placeholder(tf.float32, [None, 1], name=\"input_y\")\n",
    "advantages = tf.placeholder(tf.float32, name=\"reward_signal\")\n",
    "loglik = tf.log(input_y * (input_y - probability) + \\\n",
    "               (1 - input_y) * (input_y + probability))\n",
    "loss = -tf.reduce_mean(loglik * advantages)\n",
    "new_grads = tf.gradients(loss, tvars)"
   ]
  },
  {
   "cell_type": "markdown",
   "metadata": {},
   "source": [
    "# train"
   ]
  },
  {
   "cell_type": "code",
   "execution_count": 6,
   "metadata": {},
   "outputs": [
    {
     "name": "stdout",
     "output_type": "stream",
     "text": [
      "Average reward for episode 25 : 22.400000.\n",
      "Average reward for episode 50 : 31.720000.\n",
      "Average reward for episode 75 : 43.160000.\n",
      "Average reward for episode 100 : 55.320000.\n",
      "Average reward for episode 125 : 76.600000.\n",
      "Average reward for episode 150 : 86.040000.\n",
      "Average reward for episode 175 : 130.200000.\n",
      "('Task solved in', 175, 'episodes!')\n"
     ]
    }
   ],
   "source": [
    "xs, ys, drs = [], [], []\n",
    "reward_sum = 0\n",
    "episode_number = 1\n",
    "total_episodes = 10000\n",
    "\n",
    "with tf.Session() as sess:\n",
    "    rendering = False\n",
    "    init = tf.global_variables_initializer()\n",
    "    sess.run(init)\n",
    "    observation = env.reset()\n",
    "    \n",
    "    grad_buffer = sess.run(tvars)\n",
    "    for ix, grad in enumerate(grad_buffer):\n",
    "        grad_buffer[ix] = grad * 0\n",
    "        \n",
    "    while episode_number <= total_episodes:\n",
    "        if reward_sum/batch_size > 100 or rendering == True:\n",
    "            env.render()\n",
    "            rendering = True\n",
    "        \n",
    "        x = np.reshape(observation, [1, d])\n",
    "        \n",
    "        tfprob = sess.run(probability, feed_dict={observations: x})\n",
    "        action = 1 if np.random.uniform() < tfprob else 0\n",
    "        \n",
    "        # reward sum\n",
    "        xs.append(x)\n",
    "        y = 1 - action\n",
    "        ys.append(y)\n",
    "        \n",
    "        observation, reward, done, info = env.step(action)\n",
    "        reward_sum += reward\n",
    "        drs.append(reward)\n",
    "        \n",
    "        # done = experiment finished\n",
    "        if done:\n",
    "            episode_number += 1\n",
    "            epx = np.vstack(xs)\n",
    "            epy = np.vstack(ys)\n",
    "            epr = np.vstack(drs)\n",
    "            xs, ys, drs = [], [], []\n",
    "            \n",
    "            # discount_reward distribution\n",
    "            discounted_epr = discount_rewards(epr)\n",
    "            discounted_epr -= np.mean(discounted_epr)\n",
    "            discounted_epr /= np.std(discounted_epr)\n",
    "            \n",
    "            # gradients\n",
    "            t_grad = sess.run(new_grads, feed_dict={observations: epx,\n",
    "                              input_y: epy, advantages: discounted_epr})\n",
    "            for ix, grad in enumerate(t_grad):\n",
    "                grad_buffer[ix] += grad\n",
    "            \n",
    "            # avg reward\n",
    "            if episode_number % batch_size == 0:\n",
    "                sess.run(update_grads, feed_dict={\n",
    "                    w1grad: grad_buffer[0], w2grad: grad_buffer[1]})\n",
    "                for ix, grad in enumerate(grad_buffer):\n",
    "                    grad_buffer[ix] = grad * 0\n",
    "                print('Average reward for episode %d : %f.' % \\\n",
    "                     (episode_number, reward_sum/batch_size))\n",
    "                \n",
    "                if reward_sum/batch_size > 119:\n",
    "                    print(\"Task solved in\", episode_number, 'episodes!')\n",
    "                    break\n",
    "                    \n",
    "                reward_sum = 0\n",
    "            observation = env.reset()"
   ]
  }
 ],
 "metadata": {
  "kernelspec": {
   "display_name": "Python 2",
   "language": "python",
   "name": "python2"
  },
  "language_info": {
   "codemirror_mode": {
    "name": "ipython",
    "version": 2
   },
   "file_extension": ".py",
   "mimetype": "text/x-python",
   "name": "python",
   "nbconvert_exporter": "python",
   "pygments_lexer": "ipython2",
   "version": "2.7.12"
  }
 },
 "nbformat": 4,
 "nbformat_minor": 2
}
